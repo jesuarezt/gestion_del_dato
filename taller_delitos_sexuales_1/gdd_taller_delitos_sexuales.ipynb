{
  "nbformat": 4,
  "nbformat_minor": 0,
  "metadata": {
    "colab": {
      "provenance": []
    },
    "kernelspec": {
      "name": "python3",
      "display_name": "Python 3"
    },
    "language_info": {
      "name": "python"
    },
    "widgets": {
      "application/vnd.jupyter.widget-state+json": {
        "fd1e1018e2324c78b8a4a3e9e4e0bf50": {
          "model_module": "@jupyter-widgets/controls",
          "model_name": "HBoxModel",
          "model_module_version": "1.5.0",
          "state": {
            "_dom_classes": [],
            "_model_module": "@jupyter-widgets/controls",
            "_model_module_version": "1.5.0",
            "_model_name": "HBoxModel",
            "_view_count": null,
            "_view_module": "@jupyter-widgets/controls",
            "_view_module_version": "1.5.0",
            "_view_name": "HBoxView",
            "box_style": "",
            "children": [
              "IPY_MODEL_0534cd1110954b52b5717f88407abce9",
              "IPY_MODEL_7acb2b75dced45fe8a27365a439466ab",
              "IPY_MODEL_0f9fae8548984e7fa3a5c4f217e6438c"
            ],
            "layout": "IPY_MODEL_e20416093a9e44acb6def8cb7ad9a5ec"
          }
        },
        "0534cd1110954b52b5717f88407abce9": {
          "model_module": "@jupyter-widgets/controls",
          "model_name": "HTMLModel",
          "model_module_version": "1.5.0",
          "state": {
            "_dom_classes": [],
            "_model_module": "@jupyter-widgets/controls",
            "_model_module_version": "1.5.0",
            "_model_name": "HTMLModel",
            "_view_count": null,
            "_view_module": "@jupyter-widgets/controls",
            "_view_module_version": "1.5.0",
            "_view_name": "HTMLView",
            "description": "",
            "description_tooltip": null,
            "layout": "IPY_MODEL_15a301f6f73340958e0c7457e6715fba",
            "placeholder": "​",
            "style": "IPY_MODEL_48838d2905a44ac790d786bd64c2ae79",
            "value": "Summarize dataset: 100%"
          }
        },
        "7acb2b75dced45fe8a27365a439466ab": {
          "model_module": "@jupyter-widgets/controls",
          "model_name": "FloatProgressModel",
          "model_module_version": "1.5.0",
          "state": {
            "_dom_classes": [],
            "_model_module": "@jupyter-widgets/controls",
            "_model_module_version": "1.5.0",
            "_model_name": "FloatProgressModel",
            "_view_count": null,
            "_view_module": "@jupyter-widgets/controls",
            "_view_module_version": "1.5.0",
            "_view_name": "ProgressView",
            "bar_style": "success",
            "description": "",
            "description_tooltip": null,
            "layout": "IPY_MODEL_95e9446de51041ed9a1a1ce7598c3a7d",
            "max": 5,
            "min": 0,
            "orientation": "horizontal",
            "style": "IPY_MODEL_5555b20a18814d9a9718ed31e7b1bfa8",
            "value": 5
          }
        },
        "0f9fae8548984e7fa3a5c4f217e6438c": {
          "model_module": "@jupyter-widgets/controls",
          "model_name": "HTMLModel",
          "model_module_version": "1.5.0",
          "state": {
            "_dom_classes": [],
            "_model_module": "@jupyter-widgets/controls",
            "_model_module_version": "1.5.0",
            "_model_name": "HTMLModel",
            "_view_count": null,
            "_view_module": "@jupyter-widgets/controls",
            "_view_module_version": "1.5.0",
            "_view_name": "HTMLView",
            "description": "",
            "description_tooltip": null,
            "layout": "IPY_MODEL_358bf2c4e91845b9930c735dcc14df53",
            "placeholder": "​",
            "style": "IPY_MODEL_cfe84d2652f2482f81d234d43b466e7c",
            "value": " 39/39 [00:09&lt;00:00,  3.43it/s, Completed]"
          }
        },
        "e20416093a9e44acb6def8cb7ad9a5ec": {
          "model_module": "@jupyter-widgets/base",
          "model_name": "LayoutModel",
          "model_module_version": "1.2.0",
          "state": {
            "_model_module": "@jupyter-widgets/base",
            "_model_module_version": "1.2.0",
            "_model_name": "LayoutModel",
            "_view_count": null,
            "_view_module": "@jupyter-widgets/base",
            "_view_module_version": "1.2.0",
            "_view_name": "LayoutView",
            "align_content": null,
            "align_items": null,
            "align_self": null,
            "border": null,
            "bottom": null,
            "display": null,
            "flex": null,
            "flex_flow": null,
            "grid_area": null,
            "grid_auto_columns": null,
            "grid_auto_flow": null,
            "grid_auto_rows": null,
            "grid_column": null,
            "grid_gap": null,
            "grid_row": null,
            "grid_template_areas": null,
            "grid_template_columns": null,
            "grid_template_rows": null,
            "height": null,
            "justify_content": null,
            "justify_items": null,
            "left": null,
            "margin": null,
            "max_height": null,
            "max_width": null,
            "min_height": null,
            "min_width": null,
            "object_fit": null,
            "object_position": null,
            "order": null,
            "overflow": null,
            "overflow_x": null,
            "overflow_y": null,
            "padding": null,
            "right": null,
            "top": null,
            "visibility": null,
            "width": null
          }
        },
        "15a301f6f73340958e0c7457e6715fba": {
          "model_module": "@jupyter-widgets/base",
          "model_name": "LayoutModel",
          "model_module_version": "1.2.0",
          "state": {
            "_model_module": "@jupyter-widgets/base",
            "_model_module_version": "1.2.0",
            "_model_name": "LayoutModel",
            "_view_count": null,
            "_view_module": "@jupyter-widgets/base",
            "_view_module_version": "1.2.0",
            "_view_name": "LayoutView",
            "align_content": null,
            "align_items": null,
            "align_self": null,
            "border": null,
            "bottom": null,
            "display": null,
            "flex": null,
            "flex_flow": null,
            "grid_area": null,
            "grid_auto_columns": null,
            "grid_auto_flow": null,
            "grid_auto_rows": null,
            "grid_column": null,
            "grid_gap": null,
            "grid_row": null,
            "grid_template_areas": null,
            "grid_template_columns": null,
            "grid_template_rows": null,
            "height": null,
            "justify_content": null,
            "justify_items": null,
            "left": null,
            "margin": null,
            "max_height": null,
            "max_width": null,
            "min_height": null,
            "min_width": null,
            "object_fit": null,
            "object_position": null,
            "order": null,
            "overflow": null,
            "overflow_x": null,
            "overflow_y": null,
            "padding": null,
            "right": null,
            "top": null,
            "visibility": null,
            "width": null
          }
        },
        "48838d2905a44ac790d786bd64c2ae79": {
          "model_module": "@jupyter-widgets/controls",
          "model_name": "DescriptionStyleModel",
          "model_module_version": "1.5.0",
          "state": {
            "_model_module": "@jupyter-widgets/controls",
            "_model_module_version": "1.5.0",
            "_model_name": "DescriptionStyleModel",
            "_view_count": null,
            "_view_module": "@jupyter-widgets/base",
            "_view_module_version": "1.2.0",
            "_view_name": "StyleView",
            "description_width": ""
          }
        },
        "95e9446de51041ed9a1a1ce7598c3a7d": {
          "model_module": "@jupyter-widgets/base",
          "model_name": "LayoutModel",
          "model_module_version": "1.2.0",
          "state": {
            "_model_module": "@jupyter-widgets/base",
            "_model_module_version": "1.2.0",
            "_model_name": "LayoutModel",
            "_view_count": null,
            "_view_module": "@jupyter-widgets/base",
            "_view_module_version": "1.2.0",
            "_view_name": "LayoutView",
            "align_content": null,
            "align_items": null,
            "align_self": null,
            "border": null,
            "bottom": null,
            "display": null,
            "flex": null,
            "flex_flow": null,
            "grid_area": null,
            "grid_auto_columns": null,
            "grid_auto_flow": null,
            "grid_auto_rows": null,
            "grid_column": null,
            "grid_gap": null,
            "grid_row": null,
            "grid_template_areas": null,
            "grid_template_columns": null,
            "grid_template_rows": null,
            "height": null,
            "justify_content": null,
            "justify_items": null,
            "left": null,
            "margin": null,
            "max_height": null,
            "max_width": null,
            "min_height": null,
            "min_width": null,
            "object_fit": null,
            "object_position": null,
            "order": null,
            "overflow": null,
            "overflow_x": null,
            "overflow_y": null,
            "padding": null,
            "right": null,
            "top": null,
            "visibility": null,
            "width": null
          }
        },
        "5555b20a18814d9a9718ed31e7b1bfa8": {
          "model_module": "@jupyter-widgets/controls",
          "model_name": "ProgressStyleModel",
          "model_module_version": "1.5.0",
          "state": {
            "_model_module": "@jupyter-widgets/controls",
            "_model_module_version": "1.5.0",
            "_model_name": "ProgressStyleModel",
            "_view_count": null,
            "_view_module": "@jupyter-widgets/base",
            "_view_module_version": "1.2.0",
            "_view_name": "StyleView",
            "bar_color": null,
            "description_width": ""
          }
        },
        "358bf2c4e91845b9930c735dcc14df53": {
          "model_module": "@jupyter-widgets/base",
          "model_name": "LayoutModel",
          "model_module_version": "1.2.0",
          "state": {
            "_model_module": "@jupyter-widgets/base",
            "_model_module_version": "1.2.0",
            "_model_name": "LayoutModel",
            "_view_count": null,
            "_view_module": "@jupyter-widgets/base",
            "_view_module_version": "1.2.0",
            "_view_name": "LayoutView",
            "align_content": null,
            "align_items": null,
            "align_self": null,
            "border": null,
            "bottom": null,
            "display": null,
            "flex": null,
            "flex_flow": null,
            "grid_area": null,
            "grid_auto_columns": null,
            "grid_auto_flow": null,
            "grid_auto_rows": null,
            "grid_column": null,
            "grid_gap": null,
            "grid_row": null,
            "grid_template_areas": null,
            "grid_template_columns": null,
            "grid_template_rows": null,
            "height": null,
            "justify_content": null,
            "justify_items": null,
            "left": null,
            "margin": null,
            "max_height": null,
            "max_width": null,
            "min_height": null,
            "min_width": null,
            "object_fit": null,
            "object_position": null,
            "order": null,
            "overflow": null,
            "overflow_x": null,
            "overflow_y": null,
            "padding": null,
            "right": null,
            "top": null,
            "visibility": null,
            "width": null
          }
        },
        "cfe84d2652f2482f81d234d43b466e7c": {
          "model_module": "@jupyter-widgets/controls",
          "model_name": "DescriptionStyleModel",
          "model_module_version": "1.5.0",
          "state": {
            "_model_module": "@jupyter-widgets/controls",
            "_model_module_version": "1.5.0",
            "_model_name": "DescriptionStyleModel",
            "_view_count": null,
            "_view_module": "@jupyter-widgets/base",
            "_view_module_version": "1.2.0",
            "_view_name": "StyleView",
            "description_width": ""
          }
        },
        "beebe080e5724d7cb2c8380764afc610": {
          "model_module": "@jupyter-widgets/controls",
          "model_name": "HBoxModel",
          "model_module_version": "1.5.0",
          "state": {
            "_dom_classes": [],
            "_model_module": "@jupyter-widgets/controls",
            "_model_module_version": "1.5.0",
            "_model_name": "HBoxModel",
            "_view_count": null,
            "_view_module": "@jupyter-widgets/controls",
            "_view_module_version": "1.5.0",
            "_view_name": "HBoxView",
            "box_style": "",
            "children": [
              "IPY_MODEL_e220cf192b8146ab9b90ff989b6d0329",
              "IPY_MODEL_c7100aa798d449baa879634cb8796f33",
              "IPY_MODEL_47c77a5ab8094f9182ace15a720d4260"
            ],
            "layout": "IPY_MODEL_0907aa705ea54e65ac45112543804ac9"
          }
        },
        "e220cf192b8146ab9b90ff989b6d0329": {
          "model_module": "@jupyter-widgets/controls",
          "model_name": "HTMLModel",
          "model_module_version": "1.5.0",
          "state": {
            "_dom_classes": [],
            "_model_module": "@jupyter-widgets/controls",
            "_model_module_version": "1.5.0",
            "_model_name": "HTMLModel",
            "_view_count": null,
            "_view_module": "@jupyter-widgets/controls",
            "_view_module_version": "1.5.0",
            "_view_name": "HTMLView",
            "description": "",
            "description_tooltip": null,
            "layout": "IPY_MODEL_158aeba4f79f4cca98fb8f605a9e0d71",
            "placeholder": "​",
            "style": "IPY_MODEL_e2a23519276a434e8f4a5d965e40bf1e",
            "value": "Generate report structure: 100%"
          }
        },
        "c7100aa798d449baa879634cb8796f33": {
          "model_module": "@jupyter-widgets/controls",
          "model_name": "FloatProgressModel",
          "model_module_version": "1.5.0",
          "state": {
            "_dom_classes": [],
            "_model_module": "@jupyter-widgets/controls",
            "_model_module_version": "1.5.0",
            "_model_name": "FloatProgressModel",
            "_view_count": null,
            "_view_module": "@jupyter-widgets/controls",
            "_view_module_version": "1.5.0",
            "_view_name": "ProgressView",
            "bar_style": "success",
            "description": "",
            "description_tooltip": null,
            "layout": "IPY_MODEL_4ea500309ffb4c20b8c932338f22ab62",
            "max": 1,
            "min": 0,
            "orientation": "horizontal",
            "style": "IPY_MODEL_41770e87d21947ecae2f18f861c45055",
            "value": 1
          }
        },
        "47c77a5ab8094f9182ace15a720d4260": {
          "model_module": "@jupyter-widgets/controls",
          "model_name": "HTMLModel",
          "model_module_version": "1.5.0",
          "state": {
            "_dom_classes": [],
            "_model_module": "@jupyter-widgets/controls",
            "_model_module_version": "1.5.0",
            "_model_name": "HTMLModel",
            "_view_count": null,
            "_view_module": "@jupyter-widgets/controls",
            "_view_module_version": "1.5.0",
            "_view_name": "HTMLView",
            "description": "",
            "description_tooltip": null,
            "layout": "IPY_MODEL_ea1603cf63fe4a50844fbd94f9e9199a",
            "placeholder": "​",
            "style": "IPY_MODEL_d23a398225e7451395a12289a0b94802",
            "value": " 1/1 [00:05&lt;00:00,  5.52s/it]"
          }
        },
        "0907aa705ea54e65ac45112543804ac9": {
          "model_module": "@jupyter-widgets/base",
          "model_name": "LayoutModel",
          "model_module_version": "1.2.0",
          "state": {
            "_model_module": "@jupyter-widgets/base",
            "_model_module_version": "1.2.0",
            "_model_name": "LayoutModel",
            "_view_count": null,
            "_view_module": "@jupyter-widgets/base",
            "_view_module_version": "1.2.0",
            "_view_name": "LayoutView",
            "align_content": null,
            "align_items": null,
            "align_self": null,
            "border": null,
            "bottom": null,
            "display": null,
            "flex": null,
            "flex_flow": null,
            "grid_area": null,
            "grid_auto_columns": null,
            "grid_auto_flow": null,
            "grid_auto_rows": null,
            "grid_column": null,
            "grid_gap": null,
            "grid_row": null,
            "grid_template_areas": null,
            "grid_template_columns": null,
            "grid_template_rows": null,
            "height": null,
            "justify_content": null,
            "justify_items": null,
            "left": null,
            "margin": null,
            "max_height": null,
            "max_width": null,
            "min_height": null,
            "min_width": null,
            "object_fit": null,
            "object_position": null,
            "order": null,
            "overflow": null,
            "overflow_x": null,
            "overflow_y": null,
            "padding": null,
            "right": null,
            "top": null,
            "visibility": null,
            "width": null
          }
        },
        "158aeba4f79f4cca98fb8f605a9e0d71": {
          "model_module": "@jupyter-widgets/base",
          "model_name": "LayoutModel",
          "model_module_version": "1.2.0",
          "state": {
            "_model_module": "@jupyter-widgets/base",
            "_model_module_version": "1.2.0",
            "_model_name": "LayoutModel",
            "_view_count": null,
            "_view_module": "@jupyter-widgets/base",
            "_view_module_version": "1.2.0",
            "_view_name": "LayoutView",
            "align_content": null,
            "align_items": null,
            "align_self": null,
            "border": null,
            "bottom": null,
            "display": null,
            "flex": null,
            "flex_flow": null,
            "grid_area": null,
            "grid_auto_columns": null,
            "grid_auto_flow": null,
            "grid_auto_rows": null,
            "grid_column": null,
            "grid_gap": null,
            "grid_row": null,
            "grid_template_areas": null,
            "grid_template_columns": null,
            "grid_template_rows": null,
            "height": null,
            "justify_content": null,
            "justify_items": null,
            "left": null,
            "margin": null,
            "max_height": null,
            "max_width": null,
            "min_height": null,
            "min_width": null,
            "object_fit": null,
            "object_position": null,
            "order": null,
            "overflow": null,
            "overflow_x": null,
            "overflow_y": null,
            "padding": null,
            "right": null,
            "top": null,
            "visibility": null,
            "width": null
          }
        },
        "e2a23519276a434e8f4a5d965e40bf1e": {
          "model_module": "@jupyter-widgets/controls",
          "model_name": "DescriptionStyleModel",
          "model_module_version": "1.5.0",
          "state": {
            "_model_module": "@jupyter-widgets/controls",
            "_model_module_version": "1.5.0",
            "_model_name": "DescriptionStyleModel",
            "_view_count": null,
            "_view_module": "@jupyter-widgets/base",
            "_view_module_version": "1.2.0",
            "_view_name": "StyleView",
            "description_width": ""
          }
        },
        "4ea500309ffb4c20b8c932338f22ab62": {
          "model_module": "@jupyter-widgets/base",
          "model_name": "LayoutModel",
          "model_module_version": "1.2.0",
          "state": {
            "_model_module": "@jupyter-widgets/base",
            "_model_module_version": "1.2.0",
            "_model_name": "LayoutModel",
            "_view_count": null,
            "_view_module": "@jupyter-widgets/base",
            "_view_module_version": "1.2.0",
            "_view_name": "LayoutView",
            "align_content": null,
            "align_items": null,
            "align_self": null,
            "border": null,
            "bottom": null,
            "display": null,
            "flex": null,
            "flex_flow": null,
            "grid_area": null,
            "grid_auto_columns": null,
            "grid_auto_flow": null,
            "grid_auto_rows": null,
            "grid_column": null,
            "grid_gap": null,
            "grid_row": null,
            "grid_template_areas": null,
            "grid_template_columns": null,
            "grid_template_rows": null,
            "height": null,
            "justify_content": null,
            "justify_items": null,
            "left": null,
            "margin": null,
            "max_height": null,
            "max_width": null,
            "min_height": null,
            "min_width": null,
            "object_fit": null,
            "object_position": null,
            "order": null,
            "overflow": null,
            "overflow_x": null,
            "overflow_y": null,
            "padding": null,
            "right": null,
            "top": null,
            "visibility": null,
            "width": null
          }
        },
        "41770e87d21947ecae2f18f861c45055": {
          "model_module": "@jupyter-widgets/controls",
          "model_name": "ProgressStyleModel",
          "model_module_version": "1.5.0",
          "state": {
            "_model_module": "@jupyter-widgets/controls",
            "_model_module_version": "1.5.0",
            "_model_name": "ProgressStyleModel",
            "_view_count": null,
            "_view_module": "@jupyter-widgets/base",
            "_view_module_version": "1.2.0",
            "_view_name": "StyleView",
            "bar_color": null,
            "description_width": ""
          }
        },
        "ea1603cf63fe4a50844fbd94f9e9199a": {
          "model_module": "@jupyter-widgets/base",
          "model_name": "LayoutModel",
          "model_module_version": "1.2.0",
          "state": {
            "_model_module": "@jupyter-widgets/base",
            "_model_module_version": "1.2.0",
            "_model_name": "LayoutModel",
            "_view_count": null,
            "_view_module": "@jupyter-widgets/base",
            "_view_module_version": "1.2.0",
            "_view_name": "LayoutView",
            "align_content": null,
            "align_items": null,
            "align_self": null,
            "border": null,
            "bottom": null,
            "display": null,
            "flex": null,
            "flex_flow": null,
            "grid_area": null,
            "grid_auto_columns": null,
            "grid_auto_flow": null,
            "grid_auto_rows": null,
            "grid_column": null,
            "grid_gap": null,
            "grid_row": null,
            "grid_template_areas": null,
            "grid_template_columns": null,
            "grid_template_rows": null,
            "height": null,
            "justify_content": null,
            "justify_items": null,
            "left": null,
            "margin": null,
            "max_height": null,
            "max_width": null,
            "min_height": null,
            "min_width": null,
            "object_fit": null,
            "object_position": null,
            "order": null,
            "overflow": null,
            "overflow_x": null,
            "overflow_y": null,
            "padding": null,
            "right": null,
            "top": null,
            "visibility": null,
            "width": null
          }
        },
        "d23a398225e7451395a12289a0b94802": {
          "model_module": "@jupyter-widgets/controls",
          "model_name": "DescriptionStyleModel",
          "model_module_version": "1.5.0",
          "state": {
            "_model_module": "@jupyter-widgets/controls",
            "_model_module_version": "1.5.0",
            "_model_name": "DescriptionStyleModel",
            "_view_count": null,
            "_view_module": "@jupyter-widgets/base",
            "_view_module_version": "1.2.0",
            "_view_name": "StyleView",
            "description_width": ""
          }
        },
        "ae069b5e75f542b598e3b37a3021823b": {
          "model_module": "@jupyter-widgets/controls",
          "model_name": "HBoxModel",
          "model_module_version": "1.5.0",
          "state": {
            "_dom_classes": [],
            "_model_module": "@jupyter-widgets/controls",
            "_model_module_version": "1.5.0",
            "_model_name": "HBoxModel",
            "_view_count": null,
            "_view_module": "@jupyter-widgets/controls",
            "_view_module_version": "1.5.0",
            "_view_name": "HBoxView",
            "box_style": "",
            "children": [
              "IPY_MODEL_a6430596de7f4f32bfc006c5151ea114",
              "IPY_MODEL_f50be978c559414da38e0186e43c109a",
              "IPY_MODEL_6693452e2f3749ec923032f8b0d817da"
            ],
            "layout": "IPY_MODEL_8d966fa4edd04f87a9161ca92713e4ba"
          }
        },
        "a6430596de7f4f32bfc006c5151ea114": {
          "model_module": "@jupyter-widgets/controls",
          "model_name": "HTMLModel",
          "model_module_version": "1.5.0",
          "state": {
            "_dom_classes": [],
            "_model_module": "@jupyter-widgets/controls",
            "_model_module_version": "1.5.0",
            "_model_name": "HTMLModel",
            "_view_count": null,
            "_view_module": "@jupyter-widgets/controls",
            "_view_module_version": "1.5.0",
            "_view_name": "HTMLView",
            "description": "",
            "description_tooltip": null,
            "layout": "IPY_MODEL_a74b5d8efdab411a85ac8610fa56ae01",
            "placeholder": "​",
            "style": "IPY_MODEL_464acf9b8c0e4e4095ada07ac2a44873",
            "value": "Render HTML: 100%"
          }
        },
        "f50be978c559414da38e0186e43c109a": {
          "model_module": "@jupyter-widgets/controls",
          "model_name": "FloatProgressModel",
          "model_module_version": "1.5.0",
          "state": {
            "_dom_classes": [],
            "_model_module": "@jupyter-widgets/controls",
            "_model_module_version": "1.5.0",
            "_model_name": "FloatProgressModel",
            "_view_count": null,
            "_view_module": "@jupyter-widgets/controls",
            "_view_module_version": "1.5.0",
            "_view_name": "ProgressView",
            "bar_style": "success",
            "description": "",
            "description_tooltip": null,
            "layout": "IPY_MODEL_c0168b437916444e8f435427cb189953",
            "max": 1,
            "min": 0,
            "orientation": "horizontal",
            "style": "IPY_MODEL_726777670d8043da99208a536cae4afd",
            "value": 1
          }
        },
        "6693452e2f3749ec923032f8b0d817da": {
          "model_module": "@jupyter-widgets/controls",
          "model_name": "HTMLModel",
          "model_module_version": "1.5.0",
          "state": {
            "_dom_classes": [],
            "_model_module": "@jupyter-widgets/controls",
            "_model_module_version": "1.5.0",
            "_model_name": "HTMLModel",
            "_view_count": null,
            "_view_module": "@jupyter-widgets/controls",
            "_view_module_version": "1.5.0",
            "_view_name": "HTMLView",
            "description": "",
            "description_tooltip": null,
            "layout": "IPY_MODEL_046b27f128b946fdbf9c942a2acb8fbf",
            "placeholder": "​",
            "style": "IPY_MODEL_345ffc14c19443d2a1c200bc3e9b8744",
            "value": " 1/1 [00:00&lt;00:00,  1.09it/s]"
          }
        },
        "8d966fa4edd04f87a9161ca92713e4ba": {
          "model_module": "@jupyter-widgets/base",
          "model_name": "LayoutModel",
          "model_module_version": "1.2.0",
          "state": {
            "_model_module": "@jupyter-widgets/base",
            "_model_module_version": "1.2.0",
            "_model_name": "LayoutModel",
            "_view_count": null,
            "_view_module": "@jupyter-widgets/base",
            "_view_module_version": "1.2.0",
            "_view_name": "LayoutView",
            "align_content": null,
            "align_items": null,
            "align_self": null,
            "border": null,
            "bottom": null,
            "display": null,
            "flex": null,
            "flex_flow": null,
            "grid_area": null,
            "grid_auto_columns": null,
            "grid_auto_flow": null,
            "grid_auto_rows": null,
            "grid_column": null,
            "grid_gap": null,
            "grid_row": null,
            "grid_template_areas": null,
            "grid_template_columns": null,
            "grid_template_rows": null,
            "height": null,
            "justify_content": null,
            "justify_items": null,
            "left": null,
            "margin": null,
            "max_height": null,
            "max_width": null,
            "min_height": null,
            "min_width": null,
            "object_fit": null,
            "object_position": null,
            "order": null,
            "overflow": null,
            "overflow_x": null,
            "overflow_y": null,
            "padding": null,
            "right": null,
            "top": null,
            "visibility": null,
            "width": null
          }
        },
        "a74b5d8efdab411a85ac8610fa56ae01": {
          "model_module": "@jupyter-widgets/base",
          "model_name": "LayoutModel",
          "model_module_version": "1.2.0",
          "state": {
            "_model_module": "@jupyter-widgets/base",
            "_model_module_version": "1.2.0",
            "_model_name": "LayoutModel",
            "_view_count": null,
            "_view_module": "@jupyter-widgets/base",
            "_view_module_version": "1.2.0",
            "_view_name": "LayoutView",
            "align_content": null,
            "align_items": null,
            "align_self": null,
            "border": null,
            "bottom": null,
            "display": null,
            "flex": null,
            "flex_flow": null,
            "grid_area": null,
            "grid_auto_columns": null,
            "grid_auto_flow": null,
            "grid_auto_rows": null,
            "grid_column": null,
            "grid_gap": null,
            "grid_row": null,
            "grid_template_areas": null,
            "grid_template_columns": null,
            "grid_template_rows": null,
            "height": null,
            "justify_content": null,
            "justify_items": null,
            "left": null,
            "margin": null,
            "max_height": null,
            "max_width": null,
            "min_height": null,
            "min_width": null,
            "object_fit": null,
            "object_position": null,
            "order": null,
            "overflow": null,
            "overflow_x": null,
            "overflow_y": null,
            "padding": null,
            "right": null,
            "top": null,
            "visibility": null,
            "width": null
          }
        },
        "464acf9b8c0e4e4095ada07ac2a44873": {
          "model_module": "@jupyter-widgets/controls",
          "model_name": "DescriptionStyleModel",
          "model_module_version": "1.5.0",
          "state": {
            "_model_module": "@jupyter-widgets/controls",
            "_model_module_version": "1.5.0",
            "_model_name": "DescriptionStyleModel",
            "_view_count": null,
            "_view_module": "@jupyter-widgets/base",
            "_view_module_version": "1.2.0",
            "_view_name": "StyleView",
            "description_width": ""
          }
        },
        "c0168b437916444e8f435427cb189953": {
          "model_module": "@jupyter-widgets/base",
          "model_name": "LayoutModel",
          "model_module_version": "1.2.0",
          "state": {
            "_model_module": "@jupyter-widgets/base",
            "_model_module_version": "1.2.0",
            "_model_name": "LayoutModel",
            "_view_count": null,
            "_view_module": "@jupyter-widgets/base",
            "_view_module_version": "1.2.0",
            "_view_name": "LayoutView",
            "align_content": null,
            "align_items": null,
            "align_self": null,
            "border": null,
            "bottom": null,
            "display": null,
            "flex": null,
            "flex_flow": null,
            "grid_area": null,
            "grid_auto_columns": null,
            "grid_auto_flow": null,
            "grid_auto_rows": null,
            "grid_column": null,
            "grid_gap": null,
            "grid_row": null,
            "grid_template_areas": null,
            "grid_template_columns": null,
            "grid_template_rows": null,
            "height": null,
            "justify_content": null,
            "justify_items": null,
            "left": null,
            "margin": null,
            "max_height": null,
            "max_width": null,
            "min_height": null,
            "min_width": null,
            "object_fit": null,
            "object_position": null,
            "order": null,
            "overflow": null,
            "overflow_x": null,
            "overflow_y": null,
            "padding": null,
            "right": null,
            "top": null,
            "visibility": null,
            "width": null
          }
        },
        "726777670d8043da99208a536cae4afd": {
          "model_module": "@jupyter-widgets/controls",
          "model_name": "ProgressStyleModel",
          "model_module_version": "1.5.0",
          "state": {
            "_model_module": "@jupyter-widgets/controls",
            "_model_module_version": "1.5.0",
            "_model_name": "ProgressStyleModel",
            "_view_count": null,
            "_view_module": "@jupyter-widgets/base",
            "_view_module_version": "1.2.0",
            "_view_name": "StyleView",
            "bar_color": null,
            "description_width": ""
          }
        },
        "046b27f128b946fdbf9c942a2acb8fbf": {
          "model_module": "@jupyter-widgets/base",
          "model_name": "LayoutModel",
          "model_module_version": "1.2.0",
          "state": {
            "_model_module": "@jupyter-widgets/base",
            "_model_module_version": "1.2.0",
            "_model_name": "LayoutModel",
            "_view_count": null,
            "_view_module": "@jupyter-widgets/base",
            "_view_module_version": "1.2.0",
            "_view_name": "LayoutView",
            "align_content": null,
            "align_items": null,
            "align_self": null,
            "border": null,
            "bottom": null,
            "display": null,
            "flex": null,
            "flex_flow": null,
            "grid_area": null,
            "grid_auto_columns": null,
            "grid_auto_flow": null,
            "grid_auto_rows": null,
            "grid_column": null,
            "grid_gap": null,
            "grid_row": null,
            "grid_template_areas": null,
            "grid_template_columns": null,
            "grid_template_rows": null,
            "height": null,
            "justify_content": null,
            "justify_items": null,
            "left": null,
            "margin": null,
            "max_height": null,
            "max_width": null,
            "min_height": null,
            "min_width": null,
            "object_fit": null,
            "object_position": null,
            "order": null,
            "overflow": null,
            "overflow_x": null,
            "overflow_y": null,
            "padding": null,
            "right": null,
            "top": null,
            "visibility": null,
            "width": null
          }
        },
        "345ffc14c19443d2a1c200bc3e9b8744": {
          "model_module": "@jupyter-widgets/controls",
          "model_name": "DescriptionStyleModel",
          "model_module_version": "1.5.0",
          "state": {
            "_model_module": "@jupyter-widgets/controls",
            "_model_module_version": "1.5.0",
            "_model_name": "DescriptionStyleModel",
            "_view_count": null,
            "_view_module": "@jupyter-widgets/base",
            "_view_module_version": "1.2.0",
            "_view_name": "StyleView",
            "description_width": ""
          }
        },
        "56a167990d7d4f8ebfb4f9f8bf270b88": {
          "model_module": "@jupyter-widgets/controls",
          "model_name": "HBoxModel",
          "model_module_version": "1.5.0",
          "state": {
            "_dom_classes": [],
            "_model_module": "@jupyter-widgets/controls",
            "_model_module_version": "1.5.0",
            "_model_name": "HBoxModel",
            "_view_count": null,
            "_view_module": "@jupyter-widgets/controls",
            "_view_module_version": "1.5.0",
            "_view_name": "HBoxView",
            "box_style": "",
            "children": [
              "IPY_MODEL_186afaa1c4fb4497b9771704fded258a",
              "IPY_MODEL_bef2c879da444422ae55b2ec73196063",
              "IPY_MODEL_fc2ac73cc6e942c0afcfbd8cba8dfa16"
            ],
            "layout": "IPY_MODEL_928a098f57da4eb68ab9e258aefff0fe"
          }
        },
        "186afaa1c4fb4497b9771704fded258a": {
          "model_module": "@jupyter-widgets/controls",
          "model_name": "HTMLModel",
          "model_module_version": "1.5.0",
          "state": {
            "_dom_classes": [],
            "_model_module": "@jupyter-widgets/controls",
            "_model_module_version": "1.5.0",
            "_model_name": "HTMLModel",
            "_view_count": null,
            "_view_module": "@jupyter-widgets/controls",
            "_view_module_version": "1.5.0",
            "_view_name": "HTMLView",
            "description": "",
            "description_tooltip": null,
            "layout": "IPY_MODEL_e16556b31f7e4e2887d853070f231fc8",
            "placeholder": "​",
            "style": "IPY_MODEL_794c220e80f64c5195c150be99ad3af9",
            "value": "Export report to file: 100%"
          }
        },
        "bef2c879da444422ae55b2ec73196063": {
          "model_module": "@jupyter-widgets/controls",
          "model_name": "FloatProgressModel",
          "model_module_version": "1.5.0",
          "state": {
            "_dom_classes": [],
            "_model_module": "@jupyter-widgets/controls",
            "_model_module_version": "1.5.0",
            "_model_name": "FloatProgressModel",
            "_view_count": null,
            "_view_module": "@jupyter-widgets/controls",
            "_view_module_version": "1.5.0",
            "_view_name": "ProgressView",
            "bar_style": "success",
            "description": "",
            "description_tooltip": null,
            "layout": "IPY_MODEL_4162bf186d8d4d5e906e151a9736c63e",
            "max": 1,
            "min": 0,
            "orientation": "horizontal",
            "style": "IPY_MODEL_b104959c16754b2fbd81558514ff5f7f",
            "value": 1
          }
        },
        "fc2ac73cc6e942c0afcfbd8cba8dfa16": {
          "model_module": "@jupyter-widgets/controls",
          "model_name": "HTMLModel",
          "model_module_version": "1.5.0",
          "state": {
            "_dom_classes": [],
            "_model_module": "@jupyter-widgets/controls",
            "_model_module_version": "1.5.0",
            "_model_name": "HTMLModel",
            "_view_count": null,
            "_view_module": "@jupyter-widgets/controls",
            "_view_module_version": "1.5.0",
            "_view_name": "HTMLView",
            "description": "",
            "description_tooltip": null,
            "layout": "IPY_MODEL_79f3b7ccde4d4117a1ec9cbfc8ee3bb3",
            "placeholder": "​",
            "style": "IPY_MODEL_d8ebf7735e134dbebf79dc7e2d06d849",
            "value": " 1/1 [00:00&lt;00:00, 28.35it/s]"
          }
        },
        "928a098f57da4eb68ab9e258aefff0fe": {
          "model_module": "@jupyter-widgets/base",
          "model_name": "LayoutModel",
          "model_module_version": "1.2.0",
          "state": {
            "_model_module": "@jupyter-widgets/base",
            "_model_module_version": "1.2.0",
            "_model_name": "LayoutModel",
            "_view_count": null,
            "_view_module": "@jupyter-widgets/base",
            "_view_module_version": "1.2.0",
            "_view_name": "LayoutView",
            "align_content": null,
            "align_items": null,
            "align_self": null,
            "border": null,
            "bottom": null,
            "display": null,
            "flex": null,
            "flex_flow": null,
            "grid_area": null,
            "grid_auto_columns": null,
            "grid_auto_flow": null,
            "grid_auto_rows": null,
            "grid_column": null,
            "grid_gap": null,
            "grid_row": null,
            "grid_template_areas": null,
            "grid_template_columns": null,
            "grid_template_rows": null,
            "height": null,
            "justify_content": null,
            "justify_items": null,
            "left": null,
            "margin": null,
            "max_height": null,
            "max_width": null,
            "min_height": null,
            "min_width": null,
            "object_fit": null,
            "object_position": null,
            "order": null,
            "overflow": null,
            "overflow_x": null,
            "overflow_y": null,
            "padding": null,
            "right": null,
            "top": null,
            "visibility": null,
            "width": null
          }
        },
        "e16556b31f7e4e2887d853070f231fc8": {
          "model_module": "@jupyter-widgets/base",
          "model_name": "LayoutModel",
          "model_module_version": "1.2.0",
          "state": {
            "_model_module": "@jupyter-widgets/base",
            "_model_module_version": "1.2.0",
            "_model_name": "LayoutModel",
            "_view_count": null,
            "_view_module": "@jupyter-widgets/base",
            "_view_module_version": "1.2.0",
            "_view_name": "LayoutView",
            "align_content": null,
            "align_items": null,
            "align_self": null,
            "border": null,
            "bottom": null,
            "display": null,
            "flex": null,
            "flex_flow": null,
            "grid_area": null,
            "grid_auto_columns": null,
            "grid_auto_flow": null,
            "grid_auto_rows": null,
            "grid_column": null,
            "grid_gap": null,
            "grid_row": null,
            "grid_template_areas": null,
            "grid_template_columns": null,
            "grid_template_rows": null,
            "height": null,
            "justify_content": null,
            "justify_items": null,
            "left": null,
            "margin": null,
            "max_height": null,
            "max_width": null,
            "min_height": null,
            "min_width": null,
            "object_fit": null,
            "object_position": null,
            "order": null,
            "overflow": null,
            "overflow_x": null,
            "overflow_y": null,
            "padding": null,
            "right": null,
            "top": null,
            "visibility": null,
            "width": null
          }
        },
        "794c220e80f64c5195c150be99ad3af9": {
          "model_module": "@jupyter-widgets/controls",
          "model_name": "DescriptionStyleModel",
          "model_module_version": "1.5.0",
          "state": {
            "_model_module": "@jupyter-widgets/controls",
            "_model_module_version": "1.5.0",
            "_model_name": "DescriptionStyleModel",
            "_view_count": null,
            "_view_module": "@jupyter-widgets/base",
            "_view_module_version": "1.2.0",
            "_view_name": "StyleView",
            "description_width": ""
          }
        },
        "4162bf186d8d4d5e906e151a9736c63e": {
          "model_module": "@jupyter-widgets/base",
          "model_name": "LayoutModel",
          "model_module_version": "1.2.0",
          "state": {
            "_model_module": "@jupyter-widgets/base",
            "_model_module_version": "1.2.0",
            "_model_name": "LayoutModel",
            "_view_count": null,
            "_view_module": "@jupyter-widgets/base",
            "_view_module_version": "1.2.0",
            "_view_name": "LayoutView",
            "align_content": null,
            "align_items": null,
            "align_self": null,
            "border": null,
            "bottom": null,
            "display": null,
            "flex": null,
            "flex_flow": null,
            "grid_area": null,
            "grid_auto_columns": null,
            "grid_auto_flow": null,
            "grid_auto_rows": null,
            "grid_column": null,
            "grid_gap": null,
            "grid_row": null,
            "grid_template_areas": null,
            "grid_template_columns": null,
            "grid_template_rows": null,
            "height": null,
            "justify_content": null,
            "justify_items": null,
            "left": null,
            "margin": null,
            "max_height": null,
            "max_width": null,
            "min_height": null,
            "min_width": null,
            "object_fit": null,
            "object_position": null,
            "order": null,
            "overflow": null,
            "overflow_x": null,
            "overflow_y": null,
            "padding": null,
            "right": null,
            "top": null,
            "visibility": null,
            "width": null
          }
        },
        "b104959c16754b2fbd81558514ff5f7f": {
          "model_module": "@jupyter-widgets/controls",
          "model_name": "ProgressStyleModel",
          "model_module_version": "1.5.0",
          "state": {
            "_model_module": "@jupyter-widgets/controls",
            "_model_module_version": "1.5.0",
            "_model_name": "ProgressStyleModel",
            "_view_count": null,
            "_view_module": "@jupyter-widgets/base",
            "_view_module_version": "1.2.0",
            "_view_name": "StyleView",
            "bar_color": null,
            "description_width": ""
          }
        },
        "79f3b7ccde4d4117a1ec9cbfc8ee3bb3": {
          "model_module": "@jupyter-widgets/base",
          "model_name": "LayoutModel",
          "model_module_version": "1.2.0",
          "state": {
            "_model_module": "@jupyter-widgets/base",
            "_model_module_version": "1.2.0",
            "_model_name": "LayoutModel",
            "_view_count": null,
            "_view_module": "@jupyter-widgets/base",
            "_view_module_version": "1.2.0",
            "_view_name": "LayoutView",
            "align_content": null,
            "align_items": null,
            "align_self": null,
            "border": null,
            "bottom": null,
            "display": null,
            "flex": null,
            "flex_flow": null,
            "grid_area": null,
            "grid_auto_columns": null,
            "grid_auto_flow": null,
            "grid_auto_rows": null,
            "grid_column": null,
            "grid_gap": null,
            "grid_row": null,
            "grid_template_areas": null,
            "grid_template_columns": null,
            "grid_template_rows": null,
            "height": null,
            "justify_content": null,
            "justify_items": null,
            "left": null,
            "margin": null,
            "max_height": null,
            "max_width": null,
            "min_height": null,
            "min_width": null,
            "object_fit": null,
            "object_position": null,
            "order": null,
            "overflow": null,
            "overflow_x": null,
            "overflow_y": null,
            "padding": null,
            "right": null,
            "top": null,
            "visibility": null,
            "width": null
          }
        },
        "d8ebf7735e134dbebf79dc7e2d06d849": {
          "model_module": "@jupyter-widgets/controls",
          "model_name": "DescriptionStyleModel",
          "model_module_version": "1.5.0",
          "state": {
            "_model_module": "@jupyter-widgets/controls",
            "_model_module_version": "1.5.0",
            "_model_name": "DescriptionStyleModel",
            "_view_count": null,
            "_view_module": "@jupyter-widgets/base",
            "_view_module_version": "1.2.0",
            "_view_name": "StyleView",
            "description_width": ""
          }
        }
      }
    }
  },
  "cells": [
    {
      "cell_type": "markdown",
      "source": [
        "# Taller Delitos Sexuales\n",
        "### Jesús Ernesto Suárez Triana\n",
        "### Maestria en Inteligencia Artifical"
      ],
      "metadata": {
        "id": "noMx5UOqMGNU"
      }
    },
    {
      "cell_type": "markdown",
      "source": [
        "# Libraries"
      ],
      "metadata": {
        "id": "NI04DyiIOQYv"
      }
    },
    {
      "cell_type": "code",
      "source": [
        "# Execute and restart kernel to continue code\n",
        "! pip  install https://github.com/pandas-profiling/pandas-profiling/archive/master.zip "
      ],
      "metadata": {
        "id": "OKjbg41mPVD8",
        "colab": {
          "base_uri": "https://localhost:8080/"
        },
        "outputId": "1bc24db3-a316-4320-b7b4-ea623720204a"
      },
      "execution_count": 1,
      "outputs": [
        {
          "output_type": "stream",
          "name": "stdout",
          "text": [
            "Looking in indexes: https://pypi.org/simple, https://us-python.pkg.dev/colab-wheels/public/simple/\n",
            "Collecting https://github.com/pandas-profiling/pandas-profiling/archive/master.zip\n",
            "  Downloading https://github.com/pandas-profiling/pandas-profiling/archive/master.zip (22.0 MB)\n",
            "\u001b[K     |████████████████████████████████| 22.0 MB 1.3 MB/s \n",
            "\u001b[?25hRequirement already satisfied: scipy<1.10,>=1.4.1 in /usr/local/lib/python3.7/dist-packages (from pandas-profiling==3.4.0) (1.7.3)\n",
            "Requirement already satisfied: pandas!=1.4.0,<1.6,>1.1 in /usr/local/lib/python3.7/dist-packages (from pandas-profiling==3.4.0) (1.3.5)\n",
            "Requirement already satisfied: matplotlib<3.6,>=3.2 in /usr/local/lib/python3.7/dist-packages (from pandas-profiling==3.4.0) (3.2.2)\n",
            "Requirement already satisfied: pydantic<1.11,>=1.8.1 in /usr/local/lib/python3.7/dist-packages (from pandas-profiling==3.4.0) (1.10.2)\n",
            "Requirement already satisfied: PyYAML<6.1,>=5.0.0 in /usr/local/lib/python3.7/dist-packages (from pandas-profiling==3.4.0) (6.0)\n",
            "Requirement already satisfied: jinja2<3.2,>=2.11.1 in /usr/local/lib/python3.7/dist-packages (from pandas-profiling==3.4.0) (2.11.3)\n",
            "Collecting visions[type_image_path]==0.7.5\n",
            "  Downloading visions-0.7.5-py3-none-any.whl (102 kB)\n",
            "\u001b[K     |████████████████████████████████| 102 kB 10.0 MB/s \n",
            "\u001b[?25hRequirement already satisfied: numpy<1.24,>=1.16.0 in /usr/local/lib/python3.7/dist-packages (from pandas-profiling==3.4.0) (1.21.6)\n",
            "Collecting htmlmin==0.1.12\n",
            "  Downloading htmlmin-0.1.12.tar.gz (19 kB)\n",
            "Requirement already satisfied: missingno<0.6,>=0.4.2 in /usr/local/lib/python3.7/dist-packages (from pandas-profiling==3.4.0) (0.5.1)\n",
            "Collecting phik<0.13,>=0.11.1\n",
            "  Downloading phik-0.12.2-cp37-cp37m-manylinux_2_17_x86_64.manylinux2014_x86_64.whl (690 kB)\n",
            "\u001b[K     |████████████████████████████████| 690 kB 48.7 MB/s \n",
            "\u001b[?25hCollecting requests<2.29,>=2.24.0\n",
            "  Downloading requests-2.28.1-py3-none-any.whl (62 kB)\n",
            "\u001b[K     |████████████████████████████████| 62 kB 1.7 MB/s \n",
            "\u001b[?25hRequirement already satisfied: tqdm<4.65,>=4.48.2 in /usr/local/lib/python3.7/dist-packages (from pandas-profiling==3.4.0) (4.64.1)\n",
            "Requirement already satisfied: seaborn<0.13,>=0.10.1 in /usr/local/lib/python3.7/dist-packages (from pandas-profiling==3.4.0) (0.11.2)\n",
            "Collecting multimethod<1.10,>=1.4\n",
            "  Downloading multimethod-1.9-py3-none-any.whl (10 kB)\n",
            "Collecting statsmodels<0.14,>=0.13.2\n",
            "  Downloading statsmodels-0.13.5-cp37-cp37m-manylinux_2_17_x86_64.manylinux2014_x86_64.whl (9.9 MB)\n",
            "\u001b[K     |████████████████████████████████| 9.9 MB 70.9 MB/s \n",
            "\u001b[?25hRequirement already satisfied: attrs>=19.3.0 in /usr/local/lib/python3.7/dist-packages (from visions[type_image_path]==0.7.5->pandas-profiling==3.4.0) (22.1.0)\n",
            "Collecting tangled-up-in-unicode>=0.0.4\n",
            "  Downloading tangled_up_in_unicode-0.2.0-py3-none-any.whl (4.7 MB)\n",
            "\u001b[K     |████████████████████████████████| 4.7 MB 55.2 MB/s \n",
            "\u001b[?25hRequirement already satisfied: networkx>=2.4 in /usr/local/lib/python3.7/dist-packages (from visions[type_image_path]==0.7.5->pandas-profiling==3.4.0) (2.6.3)\n",
            "Requirement already satisfied: Pillow in /usr/local/lib/python3.7/dist-packages (from visions[type_image_path]==0.7.5->pandas-profiling==3.4.0) (7.1.2)\n",
            "Collecting imagehash\n",
            "  Downloading ImageHash-4.3.1-py2.py3-none-any.whl (296 kB)\n",
            "\u001b[K     |████████████████████████████████| 296 kB 76.0 MB/s \n",
            "\u001b[?25hRequirement already satisfied: MarkupSafe>=0.23 in /usr/local/lib/python3.7/dist-packages (from jinja2<3.2,>=2.11.1->pandas-profiling==3.4.0) (2.0.1)\n",
            "Requirement already satisfied: kiwisolver>=1.0.1 in /usr/local/lib/python3.7/dist-packages (from matplotlib<3.6,>=3.2->pandas-profiling==3.4.0) (1.4.4)\n",
            "Requirement already satisfied: pyparsing!=2.0.4,!=2.1.2,!=2.1.6,>=2.0.1 in /usr/local/lib/python3.7/dist-packages (from matplotlib<3.6,>=3.2->pandas-profiling==3.4.0) (3.0.9)\n",
            "Requirement already satisfied: cycler>=0.10 in /usr/local/lib/python3.7/dist-packages (from matplotlib<3.6,>=3.2->pandas-profiling==3.4.0) (0.11.0)\n",
            "Requirement already satisfied: python-dateutil>=2.1 in /usr/local/lib/python3.7/dist-packages (from matplotlib<3.6,>=3.2->pandas-profiling==3.4.0) (2.8.2)\n",
            "Requirement already satisfied: typing-extensions in /usr/local/lib/python3.7/dist-packages (from kiwisolver>=1.0.1->matplotlib<3.6,>=3.2->pandas-profiling==3.4.0) (4.1.1)\n",
            "Requirement already satisfied: pytz>=2017.3 in /usr/local/lib/python3.7/dist-packages (from pandas!=1.4.0,<1.6,>1.1->pandas-profiling==3.4.0) (2022.6)\n",
            "Requirement already satisfied: joblib>=0.14.1 in /usr/local/lib/python3.7/dist-packages (from phik<0.13,>=0.11.1->pandas-profiling==3.4.0) (1.2.0)\n",
            "Requirement already satisfied: six>=1.5 in /usr/local/lib/python3.7/dist-packages (from python-dateutil>=2.1->matplotlib<3.6,>=3.2->pandas-profiling==3.4.0) (1.15.0)\n",
            "Requirement already satisfied: charset-normalizer<3,>=2 in /usr/local/lib/python3.7/dist-packages (from requests<2.29,>=2.24.0->pandas-profiling==3.4.0) (2.1.1)\n",
            "Requirement already satisfied: idna<4,>=2.5 in /usr/local/lib/python3.7/dist-packages (from requests<2.29,>=2.24.0->pandas-profiling==3.4.0) (2.10)\n",
            "Requirement already satisfied: certifi>=2017.4.17 in /usr/local/lib/python3.7/dist-packages (from requests<2.29,>=2.24.0->pandas-profiling==3.4.0) (2022.9.24)\n",
            "Requirement already satisfied: urllib3<1.27,>=1.21.1 in /usr/local/lib/python3.7/dist-packages (from requests<2.29,>=2.24.0->pandas-profiling==3.4.0) (1.24.3)\n",
            "Requirement already satisfied: patsy>=0.5.2 in /usr/local/lib/python3.7/dist-packages (from statsmodels<0.14,>=0.13.2->pandas-profiling==3.4.0) (0.5.3)\n",
            "Requirement already satisfied: packaging>=21.3 in /usr/local/lib/python3.7/dist-packages (from statsmodels<0.14,>=0.13.2->pandas-profiling==3.4.0) (21.3)\n",
            "Requirement already satisfied: PyWavelets in /usr/local/lib/python3.7/dist-packages (from imagehash->visions[type_image_path]==0.7.5->pandas-profiling==3.4.0) (1.3.0)\n",
            "Building wheels for collected packages: pandas-profiling, htmlmin\n",
            "  Building wheel for pandas-profiling (setup.py) ... \u001b[?25l\u001b[?25hdone\n",
            "  Created wheel for pandas-profiling: filename=pandas_profiling-3.4.0-py2.py3-none-any.whl size=315268 sha256=b7a3af3c83f4229140ed6025c13baaab4af2580cb3ef8e255213a8c9b8d9f68b\n",
            "  Stored in directory: /tmp/pip-ephem-wheel-cache-zwziuev1/wheels/cc/d5/09/083fb07c9363a2f45854b0e3a7de7d7c560f07da74b9e9769d\n",
            "  Building wheel for htmlmin (setup.py) ... \u001b[?25l\u001b[?25hdone\n",
            "  Created wheel for htmlmin: filename=htmlmin-0.1.12-py3-none-any.whl size=27098 sha256=9e97a68494bba47031e5e239739a4091f18889cb5e7acab202dbe28dea665e4b\n",
            "  Stored in directory: /root/.cache/pip/wheels/70/e1/52/5b14d250ba868768823940c3229e9950d201a26d0bd3ee8655\n",
            "Successfully built pandas-profiling htmlmin\n",
            "Installing collected packages: tangled-up-in-unicode, multimethod, visions, imagehash, statsmodels, requests, phik, htmlmin, pandas-profiling\n",
            "  Attempting uninstall: statsmodels\n",
            "    Found existing installation: statsmodels 0.12.2\n",
            "    Uninstalling statsmodels-0.12.2:\n",
            "      Successfully uninstalled statsmodels-0.12.2\n",
            "  Attempting uninstall: requests\n",
            "    Found existing installation: requests 2.23.0\n",
            "    Uninstalling requests-2.23.0:\n",
            "      Successfully uninstalled requests-2.23.0\n",
            "  Attempting uninstall: pandas-profiling\n",
            "    Found existing installation: pandas-profiling 1.4.1\n",
            "    Uninstalling pandas-profiling-1.4.1:\n",
            "      Successfully uninstalled pandas-profiling-1.4.1\n",
            "Successfully installed htmlmin-0.1.12 imagehash-4.3.1 multimethod-1.9 pandas-profiling-3.4.0 phik-0.12.2 requests-2.28.1 statsmodels-0.13.5 tangled-up-in-unicode-0.2.0 visions-0.7.5\n"
          ]
        }
      ]
    },
    {
      "cell_type": "code",
      "source": [
        "# Data Analysis\n",
        "import pandas as pd\n",
        "from pandas_profiling import ProfileReport\n",
        "\n",
        "# Graphics\n",
        "import seaborn as sns\n",
        "import matplotlib.pyplot as plt\n",
        "\n",
        "# My Drive connection\n",
        "from google.colab import drive\n",
        "drive.mount('/content/drive')"
      ],
      "metadata": {
        "colab": {
          "base_uri": "https://localhost:8080/"
        },
        "id": "OeD0TQhmMQZ0",
        "outputId": "6164f2d9-4822-4149-8170-949b26aa1f29"
      },
      "execution_count": 2,
      "outputs": [
        {
          "output_type": "stream",
          "name": "stdout",
          "text": [
            "Mounted at /content/drive\n"
          ]
        }
      ]
    },
    {
      "cell_type": "markdown",
      "source": [
        "# Global Variable"
      ],
      "metadata": {
        "id": "F9ib-zVzOYII"
      }
    },
    {
      "cell_type": "code",
      "source": [
        "path = '/content/drive/MyDrive/javeriana/gestion del dato/delitos-sexuales-2019m.xlsx'"
      ],
      "metadata": {
        "id": "mi0QG6LNMVI0"
      },
      "execution_count": 3,
      "outputs": []
    },
    {
      "cell_type": "markdown",
      "source": [
        "# Cargar los datos"
      ],
      "metadata": {
        "id": "H9ladhqsOdkA"
      }
    },
    {
      "cell_type": "code",
      "source": [
        "df = pd.read_excel(path)\n",
        "print(df.info())"
      ],
      "metadata": {
        "colab": {
          "base_uri": "https://localhost:8080/"
        },
        "id": "Dyy8AIRdM0z6",
        "outputId": "ac767d2a-fbdc-4a63-f69b-cb1fa294f728"
      },
      "execution_count": 4,
      "outputs": [
        {
          "output_type": "stream",
          "name": "stdout",
          "text": [
            "<class 'pandas.core.frame.DataFrame'>\n",
            "RangeIndex: 33790 entries, 0 to 33789\n",
            "Data columns (total 21 columns):\n",
            " #   Column              Non-Null Count  Dtype         \n",
            "---  ------              --------------  -----         \n",
            " 0   Fecha               33790 non-null  datetime64[ns]\n",
            " 1   Departamento        33790 non-null  object        \n",
            " 2   Municipio           33790 non-null  object        \n",
            " 3   DELITO              33790 non-null  object        \n",
            " 4   Día                 33790 non-null  object        \n",
            " 5   Hora                33790 non-null  object        \n",
            " 6   Barrio              33790 non-null  object        \n",
            " 7   Zona                33790 non-null  object        \n",
            " 8   Clase de sitio      33790 non-null  object        \n",
            " 9   Arma empleada       33790 non-null  object        \n",
            " 10  Móvil Agresor       33790 non-null  object        \n",
            " 11  Móvil Victima       33790 non-null  object        \n",
            " 12  Edad                33790 non-null  object        \n",
            " 13  Sexo                33790 non-null  object        \n",
            " 14  Estado civil        33790 non-null  object        \n",
            " 15  País de nacimiento  33790 non-null  object        \n",
            " 16  Clase de empleado   33790 non-null  object        \n",
            " 17  Profesión           33790 non-null  object        \n",
            " 18  Escolaridad         33790 non-null  object        \n",
            " 19  Código DANE         33790 non-null  int64         \n",
            " 20  Cantidad            33790 non-null  int64         \n",
            "dtypes: datetime64[ns](1), int64(2), object(18)\n",
            "memory usage: 5.4+ MB\n",
            "None\n"
          ]
        }
      ]
    },
    {
      "cell_type": "code",
      "source": [
        "df.head()"
      ],
      "metadata": {
        "colab": {
          "base_uri": "https://localhost:8080/",
          "height": 890
        },
        "id": "LT8QSJGkQXds",
        "outputId": "7c554322-3d54-49c7-a6ab-e7efb80ebac4"
      },
      "execution_count": 5,
      "outputs": [
        {
          "output_type": "execute_result",
          "data": {
            "text/plain": [
              "       Fecha Departamento     Municipio  \\\n",
              "0 2019-01-01     AMAZONAS  LETICIA (CT)   \n",
              "1 2019-01-01     AMAZONAS  LETICIA (CT)   \n",
              "2 2019-01-01    ANTIOQUIA      ABRIAQUÍ   \n",
              "3 2019-01-01    ANTIOQUIA         AMAGÁ   \n",
              "4 2019-01-01    ANTIOQUIA         AMAGÁ   \n",
              "\n",
              "                                              DELITO     Día      Hora  \\\n",
              "0  ARTÍCULO 209. ACTOS SEXUALES CON MENOR DE 14 AÑOS  Martes  18:00:00   \n",
              "1  ARTÍCULO 209. ACTOS SEXUALES CON MENOR DE 14 AÑOS  Martes  18:00:00   \n",
              "2  ARTÍCULO 209. ACTOS SEXUALES CON MENOR DE 14 AÑOS  Martes  00:00:00   \n",
              "3  ARTÍCULO 208. ACCESO CARNAL ABUSIVO CON MENOR ...  Martes  10:00:00   \n",
              "4  ARTÍCULO 208. ACCESO CARNAL ABUSIVO CON MENOR ...  Martes  10:00:00   \n",
              "\n",
              "         Barrio   Zona      Clase de sitio        Arma empleada  ...  \\\n",
              "0  NO REPORTADO  RURAL   CASAS DE APUESTAS  SIN EMPLEO DE ARMAS  ...   \n",
              "1  NO REPORTADO  RURAL   CASAS DE APUESTAS  SIN EMPLEO DE ARMAS  ...   \n",
              "2      SAN JOSE  RURAL  FINCAS Y SIMILARES  SIN EMPLEO DE ARMAS  ...   \n",
              "3      LA GUALI  RURAL  FINCAS Y SIMILARES  SIN EMPLEO DE ARMAS  ...   \n",
              "4      LA GUALI  RURAL  FINCAS Y SIMILARES  SIN EMPLEO DE ARMAS  ...   \n",
              "\n",
              "  Móvil Victima Edad      Sexo Estado civil País de nacimiento  \\\n",
              "0         A PIE    7  FEMENINO            -           COLOMBIA   \n",
              "1         A PIE   21  FEMENINO  UNION LIBRE           COLOMBIA   \n",
              "2         A PIE   16  FEMENINO      SOLTERO           COLOMBIA   \n",
              "3         A PIE    4  FEMENINO      SOLTERO           COLOMBIA   \n",
              "4         A PIE    8  FEMENINO      SOLTERO           COLOMBIA   \n",
              "\n",
              "     Clase de empleado     Profesión Escolaridad Código DANE  Cantidad  \n",
              "0           NO REPORTA             -           -    91001000         1  \n",
              "1        INDEPENDIENTE             -    PRIMARIA    91001000         1  \n",
              "2           ESTUDIANTE             -  SECUNDARIA     5004000         1  \n",
              "3  EMPLEADO PARTICULAR  NO REPORTADA  SECUNDARIA     5030000         1  \n",
              "4  EMPLEADO PARTICULAR  NO REPORTADA    PRIMARIA     5030000         1  \n",
              "\n",
              "[5 rows x 21 columns]"
            ],
            "text/html": [
              "\n",
              "  <div id=\"df-c744f0c7-90d0-465b-8219-1a7b607f1c49\">\n",
              "    <div class=\"colab-df-container\">\n",
              "      <div>\n",
              "<style scoped>\n",
              "    .dataframe tbody tr th:only-of-type {\n",
              "        vertical-align: middle;\n",
              "    }\n",
              "\n",
              "    .dataframe tbody tr th {\n",
              "        vertical-align: top;\n",
              "    }\n",
              "\n",
              "    .dataframe thead th {\n",
              "        text-align: right;\n",
              "    }\n",
              "</style>\n",
              "<table border=\"1\" class=\"dataframe\">\n",
              "  <thead>\n",
              "    <tr style=\"text-align: right;\">\n",
              "      <th></th>\n",
              "      <th>Fecha</th>\n",
              "      <th>Departamento</th>\n",
              "      <th>Municipio</th>\n",
              "      <th>DELITO</th>\n",
              "      <th>Día</th>\n",
              "      <th>Hora</th>\n",
              "      <th>Barrio</th>\n",
              "      <th>Zona</th>\n",
              "      <th>Clase de sitio</th>\n",
              "      <th>Arma empleada</th>\n",
              "      <th>...</th>\n",
              "      <th>Móvil Victima</th>\n",
              "      <th>Edad</th>\n",
              "      <th>Sexo</th>\n",
              "      <th>Estado civil</th>\n",
              "      <th>País de nacimiento</th>\n",
              "      <th>Clase de empleado</th>\n",
              "      <th>Profesión</th>\n",
              "      <th>Escolaridad</th>\n",
              "      <th>Código DANE</th>\n",
              "      <th>Cantidad</th>\n",
              "    </tr>\n",
              "  </thead>\n",
              "  <tbody>\n",
              "    <tr>\n",
              "      <th>0</th>\n",
              "      <td>2019-01-01</td>\n",
              "      <td>AMAZONAS</td>\n",
              "      <td>LETICIA (CT)</td>\n",
              "      <td>ARTÍCULO 209. ACTOS SEXUALES CON MENOR DE 14 AÑOS</td>\n",
              "      <td>Martes</td>\n",
              "      <td>18:00:00</td>\n",
              "      <td>NO REPORTADO</td>\n",
              "      <td>RURAL</td>\n",
              "      <td>CASAS DE APUESTAS</td>\n",
              "      <td>SIN EMPLEO DE ARMAS</td>\n",
              "      <td>...</td>\n",
              "      <td>A PIE</td>\n",
              "      <td>7</td>\n",
              "      <td>FEMENINO</td>\n",
              "      <td>-</td>\n",
              "      <td>COLOMBIA</td>\n",
              "      <td>NO REPORTA</td>\n",
              "      <td>-</td>\n",
              "      <td>-</td>\n",
              "      <td>91001000</td>\n",
              "      <td>1</td>\n",
              "    </tr>\n",
              "    <tr>\n",
              "      <th>1</th>\n",
              "      <td>2019-01-01</td>\n",
              "      <td>AMAZONAS</td>\n",
              "      <td>LETICIA (CT)</td>\n",
              "      <td>ARTÍCULO 209. ACTOS SEXUALES CON MENOR DE 14 AÑOS</td>\n",
              "      <td>Martes</td>\n",
              "      <td>18:00:00</td>\n",
              "      <td>NO REPORTADO</td>\n",
              "      <td>RURAL</td>\n",
              "      <td>CASAS DE APUESTAS</td>\n",
              "      <td>SIN EMPLEO DE ARMAS</td>\n",
              "      <td>...</td>\n",
              "      <td>A PIE</td>\n",
              "      <td>21</td>\n",
              "      <td>FEMENINO</td>\n",
              "      <td>UNION LIBRE</td>\n",
              "      <td>COLOMBIA</td>\n",
              "      <td>INDEPENDIENTE</td>\n",
              "      <td>-</td>\n",
              "      <td>PRIMARIA</td>\n",
              "      <td>91001000</td>\n",
              "      <td>1</td>\n",
              "    </tr>\n",
              "    <tr>\n",
              "      <th>2</th>\n",
              "      <td>2019-01-01</td>\n",
              "      <td>ANTIOQUIA</td>\n",
              "      <td>ABRIAQUÍ</td>\n",
              "      <td>ARTÍCULO 209. ACTOS SEXUALES CON MENOR DE 14 AÑOS</td>\n",
              "      <td>Martes</td>\n",
              "      <td>00:00:00</td>\n",
              "      <td>SAN JOSE</td>\n",
              "      <td>RURAL</td>\n",
              "      <td>FINCAS Y SIMILARES</td>\n",
              "      <td>SIN EMPLEO DE ARMAS</td>\n",
              "      <td>...</td>\n",
              "      <td>A PIE</td>\n",
              "      <td>16</td>\n",
              "      <td>FEMENINO</td>\n",
              "      <td>SOLTERO</td>\n",
              "      <td>COLOMBIA</td>\n",
              "      <td>ESTUDIANTE</td>\n",
              "      <td>-</td>\n",
              "      <td>SECUNDARIA</td>\n",
              "      <td>5004000</td>\n",
              "      <td>1</td>\n",
              "    </tr>\n",
              "    <tr>\n",
              "      <th>3</th>\n",
              "      <td>2019-01-01</td>\n",
              "      <td>ANTIOQUIA</td>\n",
              "      <td>AMAGÁ</td>\n",
              "      <td>ARTÍCULO 208. ACCESO CARNAL ABUSIVO CON MENOR ...</td>\n",
              "      <td>Martes</td>\n",
              "      <td>10:00:00</td>\n",
              "      <td>LA GUALI</td>\n",
              "      <td>RURAL</td>\n",
              "      <td>FINCAS Y SIMILARES</td>\n",
              "      <td>SIN EMPLEO DE ARMAS</td>\n",
              "      <td>...</td>\n",
              "      <td>A PIE</td>\n",
              "      <td>4</td>\n",
              "      <td>FEMENINO</td>\n",
              "      <td>SOLTERO</td>\n",
              "      <td>COLOMBIA</td>\n",
              "      <td>EMPLEADO PARTICULAR</td>\n",
              "      <td>NO REPORTADA</td>\n",
              "      <td>SECUNDARIA</td>\n",
              "      <td>5030000</td>\n",
              "      <td>1</td>\n",
              "    </tr>\n",
              "    <tr>\n",
              "      <th>4</th>\n",
              "      <td>2019-01-01</td>\n",
              "      <td>ANTIOQUIA</td>\n",
              "      <td>AMAGÁ</td>\n",
              "      <td>ARTÍCULO 208. ACCESO CARNAL ABUSIVO CON MENOR ...</td>\n",
              "      <td>Martes</td>\n",
              "      <td>10:00:00</td>\n",
              "      <td>LA GUALI</td>\n",
              "      <td>RURAL</td>\n",
              "      <td>FINCAS Y SIMILARES</td>\n",
              "      <td>SIN EMPLEO DE ARMAS</td>\n",
              "      <td>...</td>\n",
              "      <td>A PIE</td>\n",
              "      <td>8</td>\n",
              "      <td>FEMENINO</td>\n",
              "      <td>SOLTERO</td>\n",
              "      <td>COLOMBIA</td>\n",
              "      <td>EMPLEADO PARTICULAR</td>\n",
              "      <td>NO REPORTADA</td>\n",
              "      <td>PRIMARIA</td>\n",
              "      <td>5030000</td>\n",
              "      <td>1</td>\n",
              "    </tr>\n",
              "  </tbody>\n",
              "</table>\n",
              "<p>5 rows × 21 columns</p>\n",
              "</div>\n",
              "      <button class=\"colab-df-convert\" onclick=\"convertToInteractive('df-c744f0c7-90d0-465b-8219-1a7b607f1c49')\"\n",
              "              title=\"Convert this dataframe to an interactive table.\"\n",
              "              style=\"display:none;\">\n",
              "        \n",
              "  <svg xmlns=\"http://www.w3.org/2000/svg\" height=\"24px\"viewBox=\"0 0 24 24\"\n",
              "       width=\"24px\">\n",
              "    <path d=\"M0 0h24v24H0V0z\" fill=\"none\"/>\n",
              "    <path d=\"M18.56 5.44l.94 2.06.94-2.06 2.06-.94-2.06-.94-.94-2.06-.94 2.06-2.06.94zm-11 1L8.5 8.5l.94-2.06 2.06-.94-2.06-.94L8.5 2.5l-.94 2.06-2.06.94zm10 10l.94 2.06.94-2.06 2.06-.94-2.06-.94-.94-2.06-.94 2.06-2.06.94z\"/><path d=\"M17.41 7.96l-1.37-1.37c-.4-.4-.92-.59-1.43-.59-.52 0-1.04.2-1.43.59L10.3 9.45l-7.72 7.72c-.78.78-.78 2.05 0 2.83L4 21.41c.39.39.9.59 1.41.59.51 0 1.02-.2 1.41-.59l7.78-7.78 2.81-2.81c.8-.78.8-2.07 0-2.86zM5.41 20L4 18.59l7.72-7.72 1.47 1.35L5.41 20z\"/>\n",
              "  </svg>\n",
              "      </button>\n",
              "      \n",
              "  <style>\n",
              "    .colab-df-container {\n",
              "      display:flex;\n",
              "      flex-wrap:wrap;\n",
              "      gap: 12px;\n",
              "    }\n",
              "\n",
              "    .colab-df-convert {\n",
              "      background-color: #E8F0FE;\n",
              "      border: none;\n",
              "      border-radius: 50%;\n",
              "      cursor: pointer;\n",
              "      display: none;\n",
              "      fill: #1967D2;\n",
              "      height: 32px;\n",
              "      padding: 0 0 0 0;\n",
              "      width: 32px;\n",
              "    }\n",
              "\n",
              "    .colab-df-convert:hover {\n",
              "      background-color: #E2EBFA;\n",
              "      box-shadow: 0px 1px 2px rgba(60, 64, 67, 0.3), 0px 1px 3px 1px rgba(60, 64, 67, 0.15);\n",
              "      fill: #174EA6;\n",
              "    }\n",
              "\n",
              "    [theme=dark] .colab-df-convert {\n",
              "      background-color: #3B4455;\n",
              "      fill: #D2E3FC;\n",
              "    }\n",
              "\n",
              "    [theme=dark] .colab-df-convert:hover {\n",
              "      background-color: #434B5C;\n",
              "      box-shadow: 0px 1px 3px 1px rgba(0, 0, 0, 0.15);\n",
              "      filter: drop-shadow(0px 1px 2px rgba(0, 0, 0, 0.3));\n",
              "      fill: #FFFFFF;\n",
              "    }\n",
              "  </style>\n",
              "\n",
              "      <script>\n",
              "        const buttonEl =\n",
              "          document.querySelector('#df-c744f0c7-90d0-465b-8219-1a7b607f1c49 button.colab-df-convert');\n",
              "        buttonEl.style.display =\n",
              "          google.colab.kernel.accessAllowed ? 'block' : 'none';\n",
              "\n",
              "        async function convertToInteractive(key) {\n",
              "          const element = document.querySelector('#df-c744f0c7-90d0-465b-8219-1a7b607f1c49');\n",
              "          const dataTable =\n",
              "            await google.colab.kernel.invokeFunction('convertToInteractive',\n",
              "                                                     [key], {});\n",
              "          if (!dataTable) return;\n",
              "\n",
              "          const docLinkHtml = 'Like what you see? Visit the ' +\n",
              "            '<a target=\"_blank\" href=https://colab.research.google.com/notebooks/data_table.ipynb>data table notebook</a>'\n",
              "            + ' to learn more about interactive tables.';\n",
              "          element.innerHTML = '';\n",
              "          dataTable['output_type'] = 'display_data';\n",
              "          await google.colab.output.renderOutput(dataTable, element);\n",
              "          const docLink = document.createElement('div');\n",
              "          docLink.innerHTML = docLinkHtml;\n",
              "          element.appendChild(docLink);\n",
              "        }\n",
              "      </script>\n",
              "    </div>\n",
              "  </div>\n",
              "  "
            ]
          },
          "metadata": {},
          "execution_count": 5
        }
      ]
    },
    {
      "cell_type": "markdown",
      "source": [
        "# Analizar las estadísticas de la información recopilada de los delitos sexuales"
      ],
      "metadata": {
        "id": "TE1PK_oFOhNK"
      }
    },
    {
      "cell_type": "code",
      "source": [
        "prof = ProfileReport(df, title = 'RAW EDA',html={'style' : {'full_width':True}})\n",
        "prof.to_file(output_file='first_analysis.html')"
      ],
      "metadata": {
        "colab": {
          "base_uri": "https://localhost:8080/",
          "height": 145,
          "referenced_widgets": [
            "fd1e1018e2324c78b8a4a3e9e4e0bf50",
            "0534cd1110954b52b5717f88407abce9",
            "7acb2b75dced45fe8a27365a439466ab",
            "0f9fae8548984e7fa3a5c4f217e6438c",
            "e20416093a9e44acb6def8cb7ad9a5ec",
            "15a301f6f73340958e0c7457e6715fba",
            "48838d2905a44ac790d786bd64c2ae79",
            "95e9446de51041ed9a1a1ce7598c3a7d",
            "5555b20a18814d9a9718ed31e7b1bfa8",
            "358bf2c4e91845b9930c735dcc14df53",
            "cfe84d2652f2482f81d234d43b466e7c",
            "beebe080e5724d7cb2c8380764afc610",
            "e220cf192b8146ab9b90ff989b6d0329",
            "c7100aa798d449baa879634cb8796f33",
            "47c77a5ab8094f9182ace15a720d4260",
            "0907aa705ea54e65ac45112543804ac9",
            "158aeba4f79f4cca98fb8f605a9e0d71",
            "e2a23519276a434e8f4a5d965e40bf1e",
            "4ea500309ffb4c20b8c932338f22ab62",
            "41770e87d21947ecae2f18f861c45055",
            "ea1603cf63fe4a50844fbd94f9e9199a",
            "d23a398225e7451395a12289a0b94802",
            "ae069b5e75f542b598e3b37a3021823b",
            "a6430596de7f4f32bfc006c5151ea114",
            "f50be978c559414da38e0186e43c109a",
            "6693452e2f3749ec923032f8b0d817da",
            "8d966fa4edd04f87a9161ca92713e4ba",
            "a74b5d8efdab411a85ac8610fa56ae01",
            "464acf9b8c0e4e4095ada07ac2a44873",
            "c0168b437916444e8f435427cb189953",
            "726777670d8043da99208a536cae4afd",
            "046b27f128b946fdbf9c942a2acb8fbf",
            "345ffc14c19443d2a1c200bc3e9b8744",
            "56a167990d7d4f8ebfb4f9f8bf270b88",
            "186afaa1c4fb4497b9771704fded258a",
            "bef2c879da444422ae55b2ec73196063",
            "fc2ac73cc6e942c0afcfbd8cba8dfa16",
            "928a098f57da4eb68ab9e258aefff0fe",
            "e16556b31f7e4e2887d853070f231fc8",
            "794c220e80f64c5195c150be99ad3af9",
            "4162bf186d8d4d5e906e151a9736c63e",
            "b104959c16754b2fbd81558514ff5f7f",
            "79f3b7ccde4d4117a1ec9cbfc8ee3bb3",
            "d8ebf7735e134dbebf79dc7e2d06d849"
          ]
        },
        "id": "JDLOFsvlOkrE",
        "outputId": "90affb61-4269-4bae-95b9-1df866858a22"
      },
      "execution_count": 6,
      "outputs": [
        {
          "output_type": "display_data",
          "data": {
            "text/plain": [
              "Summarize dataset:   0%|          | 0/5 [00:00<?, ?it/s]"
            ],
            "application/vnd.jupyter.widget-view+json": {
              "version_major": 2,
              "version_minor": 0,
              "model_id": "fd1e1018e2324c78b8a4a3e9e4e0bf50"
            }
          },
          "metadata": {}
        },
        {
          "output_type": "display_data",
          "data": {
            "text/plain": [
              "Generate report structure:   0%|          | 0/1 [00:00<?, ?it/s]"
            ],
            "application/vnd.jupyter.widget-view+json": {
              "version_major": 2,
              "version_minor": 0,
              "model_id": "beebe080e5724d7cb2c8380764afc610"
            }
          },
          "metadata": {}
        },
        {
          "output_type": "display_data",
          "data": {
            "text/plain": [
              "Render HTML:   0%|          | 0/1 [00:00<?, ?it/s]"
            ],
            "application/vnd.jupyter.widget-view+json": {
              "version_major": 2,
              "version_minor": 0,
              "model_id": "ae069b5e75f542b598e3b37a3021823b"
            }
          },
          "metadata": {}
        },
        {
          "output_type": "display_data",
          "data": {
            "text/plain": [
              "Export report to file:   0%|          | 0/1 [00:00<?, ?it/s]"
            ],
            "application/vnd.jupyter.widget-view+json": {
              "version_major": 2,
              "version_minor": 0,
              "model_id": "56a167990d7d4f8ebfb4f9f8bf270b88"
            }
          },
          "metadata": {}
        }
      ]
    },
    {
      "cell_type": "code",
      "source": [
        "#prof"
      ],
      "metadata": {
        "id": "UxOH4FvePIBu"
      },
      "execution_count": 7,
      "outputs": []
    },
    {
      "cell_type": "markdown",
      "source": [
        "### Comentarios generales\n",
        "\n",
        "Analizando el reporte puro de pandas profilling damos los siguientes comentarios: \n",
        "\n",
        "- los datos son historico 2019\n",
        "- La data esta constituida a nivel departamental, dando prioridad a cundinamarca con 7370 registros (25% aprox de la data) \n",
        "- El delito más reportado es el de actos sexuales reportado en el articulo 209. \n",
        "- A nivel general no existe una diferencia entre los días que se cometieron los delitos. \n",
        "- Los delitos en general son reportados en las zonas urbanas y son ejecutados en vías publicas en su mayoria. \n",
        "- Los delitos en general no son reportados o son ejecutados sin el empleo de armas. \n",
        "- Los delitos generalemente se ejecutan cuando las personas van a pie.\n",
        "En rango de edad, las personas entre los 11 a 18 años, son victimas de estos delitos. Y en general son personas del genero femenino quienes reportan estos casos. \n",
        "\n",
        "\n",
        "\n",
        "En terminos de calidad de datos no consideramos datos para realizar limpieza del dataset. "
      ],
      "metadata": {
        "id": "c2e_f7-HTs3q"
      }
    },
    {
      "cell_type": "markdown",
      "source": [
        "# Visualizar un conjunto de atributos de delitos sexuales"
      ],
      "metadata": {
        "id": "bHKea68gTNtS"
      }
    },
    {
      "cell_type": "code",
      "source": [
        "df.info()"
      ],
      "metadata": {
        "colab": {
          "base_uri": "https://localhost:8080/"
        },
        "id": "u0w5WEnrgpR7",
        "outputId": "45b77440-c503-4055-e3fe-ed4bd9967d0c"
      },
      "execution_count": 8,
      "outputs": [
        {
          "output_type": "stream",
          "name": "stdout",
          "text": [
            "<class 'pandas.core.frame.DataFrame'>\n",
            "RangeIndex: 33790 entries, 0 to 33789\n",
            "Data columns (total 21 columns):\n",
            " #   Column              Non-Null Count  Dtype         \n",
            "---  ------              --------------  -----         \n",
            " 0   Fecha               33790 non-null  datetime64[ns]\n",
            " 1   Departamento        33790 non-null  object        \n",
            " 2   Municipio           33790 non-null  object        \n",
            " 3   DELITO              33790 non-null  object        \n",
            " 4   Día                 33790 non-null  object        \n",
            " 5   Hora                33790 non-null  object        \n",
            " 6   Barrio              33790 non-null  object        \n",
            " 7   Zona                33790 non-null  object        \n",
            " 8   Clase de sitio      33790 non-null  object        \n",
            " 9   Arma empleada       33790 non-null  object        \n",
            " 10  Móvil Agresor       33790 non-null  object        \n",
            " 11  Móvil Victima       33790 non-null  object        \n",
            " 12  Edad                33790 non-null  object        \n",
            " 13  Sexo                33790 non-null  object        \n",
            " 14  Estado civil        33790 non-null  object        \n",
            " 15  País de nacimiento  33790 non-null  object        \n",
            " 16  Clase de empleado   33790 non-null  object        \n",
            " 17  Profesión           33790 non-null  object        \n",
            " 18  Escolaridad         33790 non-null  object        \n",
            " 19  Código DANE         33790 non-null  int64         \n",
            " 20  Cantidad            33790 non-null  int64         \n",
            "dtypes: datetime64[ns](1), int64(2), object(18)\n",
            "memory usage: 5.4+ MB\n"
          ]
        }
      ]
    },
    {
      "cell_type": "code",
      "source": [
        "df.columns.tolist()"
      ],
      "metadata": {
        "colab": {
          "base_uri": "https://localhost:8080/"
        },
        "id": "E7U2S2-mi5zm",
        "outputId": "3eab19f8-fd09-4398-eb8a-97d9c7ca8164"
      },
      "execution_count": 9,
      "outputs": [
        {
          "output_type": "execute_result",
          "data": {
            "text/plain": [
              "['Fecha',\n",
              " 'Departamento',\n",
              " 'Municipio',\n",
              " 'DELITO',\n",
              " 'Día',\n",
              " 'Hora',\n",
              " 'Barrio',\n",
              " 'Zona',\n",
              " 'Clase de sitio',\n",
              " 'Arma empleada',\n",
              " 'Móvil Agresor',\n",
              " 'Móvil Victima',\n",
              " 'Edad',\n",
              " 'Sexo',\n",
              " 'Estado civil',\n",
              " 'País de nacimiento',\n",
              " 'Clase de empleado',\n",
              " 'Profesión',\n",
              " 'Escolaridad',\n",
              " 'Código DANE',\n",
              " 'Cantidad']"
            ]
          },
          "metadata": {},
          "execution_count": 9
        }
      ]
    },
    {
      "cell_type": "code",
      "source": [],
      "metadata": {
        "id": "Y6yODJgRi74S"
      },
      "execution_count": 9,
      "outputs": []
    },
    {
      "cell_type": "code",
      "source": [
        "aux = df.groupby('DELITO').agg(cantidad= ('Cantidad', 'sum')).reset_index()\n",
        "aux.rename(columns= {'DELITO': 'delito'}, inplace=True)\n",
        "aux.sort_values('cantidad', ascending =False, inplace=True)\n",
        "\n",
        "print('Inicialmente realizamos un print de la distribución de delitos sexuales')\n",
        "sns.barplot(data=aux, y='delito', x= 'cantidad', orient='h')\n",
        "plt.show()\n",
        "\n",
        "print('Con base al histograma, realizaremos un exploratorio del caso de ACTOS SEXUALES CON MENOR DE 14 AÑOS')"
      ],
      "metadata": {
        "colab": {
          "base_uri": "https://localhost:8080/",
          "height": 276
        },
        "id": "KqqaF9yTV5Ey",
        "outputId": "54497102-cf77-4c74-cef7-3e0fe819787c"
      },
      "execution_count": 10,
      "outputs": [
        {
          "output_type": "stream",
          "name": "stdout",
          "text": [
            "Inicialmente realizamos un print de la distribución de delitos sexuales\n"
          ]
        },
        {
          "output_type": "display_data",
          "data": {
            "text/plain": [
              "<Figure size 432x288 with 1 Axes>"
            ],
            "image/png": "[encoded data removed]"
          },
          "metadata": {
            "needs_background": "light"
          }
        },
        {
          "output_type": "stream",
          "name": "stdout",
          "text": [
            "Con base al histograma, realizaremos un exploratorio del caso de ACTOS SEXUALES CON MENOR DE 14 AÑOS\n"
          ]
        }
      ]
    },
    {
      "cell_type": "code",
      "source": [
        "def factor_plot(x_, y_, hue_, title_):\n",
        "  global df\n",
        "  delito_select = 'ARTÍCULO 209. ACTOS SEXUALES CON MENOR DE 14 AÑOS'\n",
        "  aux = df.loc[df.DELITO == delito_select]\n",
        "  aux = df.groupby([y_, hue_]).agg(cantidad= (x_, 'sum')).reset_index()\n",
        "  aux.sort_values('cantidad', ascending =False, inplace=True)\n",
        "\n",
        "  ax = sns.factorplot(data = aux, y=y_, x='cantidad', hue=hue_)\n",
        "  ax.set(title=title_)\n",
        "  plt.show()\n"
      ],
      "metadata": {
        "id": "mwsgtMP4YYH0"
      },
      "execution_count": 11,
      "outputs": []
    },
    {
      "cell_type": "code",
      "source": [
        "factor_plot(y_= 'Departamento', x_='Cantidad', hue_='Sexo',\n",
        "            title_ ='Distribucion delitos por genero y departamento' )"
      ],
      "metadata": {
        "colab": {
          "base_uri": "https://localhost:8080/",
          "height": 441
        },
        "id": "781l8vimc4-e",
        "outputId": "be3e9360-bcd1-4c59-896e-cc46cadd99d0"
      },
      "execution_count": 12,
      "outputs": [
        {
          "output_type": "stream",
          "name": "stderr",
          "text": [
            "/usr/local/lib/python3.7/dist-packages/seaborn/categorical.py:3717: UserWarning: The `factorplot` function has been renamed to `catplot`. The original name will be removed in a future release. Please update your code. Note that the default `kind` in `factorplot` (`'point'`) has changed `'strip'` in `catplot`.\n",
            "  warnings.warn(msg)\n"
          ]
        },
        {
          "output_type": "display_data",
          "data": {
            "text/plain": [
              "<Figure size 455.625x360 with 1 Axes>"
            ],
            "image/png": "[encoded data removed]"
          },
          "metadata": {
            "needs_background": "light"
          }
        }
      ]
    },
    {
      "cell_type": "code",
      "source": [
        "factor_plot(y_= 'Día', x_='Cantidad', hue_='Sexo',\n",
        "            title_ ='Distribucion delitos por Día y sexo' )"
      ],
      "metadata": {
        "colab": {
          "base_uri": "https://localhost:8080/",
          "height": 441
        },
        "id": "cB6QONl6TbHZ",
        "outputId": "3518de77-62f8-4b25-b203-8a2ce9ef8cda"
      },
      "execution_count": 13,
      "outputs": [
        {
          "output_type": "stream",
          "name": "stderr",
          "text": [
            "/usr/local/lib/python3.7/dist-packages/seaborn/categorical.py:3717: UserWarning: The `factorplot` function has been renamed to `catplot`. The original name will be removed in a future release. Please update your code. Note that the default `kind` in `factorplot` (`'point'`) has changed `'strip'` in `catplot`.\n",
            "  warnings.warn(msg)\n"
          ]
        },
        {
          "output_type": "display_data",
          "data": {
            "text/plain": [
              "<Figure size 455.625x360 with 1 Axes>"
            ],
            "image/png": "[encoded data removed]"
          },
          "metadata": {
            "needs_background": "light"
          }
        }
      ]
    },
    {
      "cell_type": "code",
      "source": [
        "factor_plot(y_= 'Arma empleada', x_='Cantidad', hue_='Sexo',\n",
        "            title_ ='Distribucion delitos por Arma Empleada y sexo' )"
      ],
      "metadata": {
        "colab": {
          "base_uri": "https://localhost:8080/",
          "height": 441
        },
        "id": "ofEBxhaFVMNN",
        "outputId": "3c176aff-fd87-468a-b4bd-6997c5073aac"
      },
      "execution_count": 14,
      "outputs": [
        {
          "output_type": "stream",
          "name": "stderr",
          "text": [
            "/usr/local/lib/python3.7/dist-packages/seaborn/categorical.py:3717: UserWarning: The `factorplot` function has been renamed to `catplot`. The original name will be removed in a future release. Please update your code. Note that the default `kind` in `factorplot` (`'point'`) has changed `'strip'` in `catplot`.\n",
            "  warnings.warn(msg)\n"
          ]
        },
        {
          "output_type": "display_data",
          "data": {
            "text/plain": [
              "<Figure size 455.625x360 with 1 Axes>"
            ],
            "image/png": "[encoded data removed]"
          },
          "metadata": {
            "needs_background": "light"
          }
        }
      ]
    },
    {
      "cell_type": "code",
      "source": [
        "factor_plot(y_= 'Escolaridad', x_='Cantidad', hue_='Sexo',\n",
        "            title_ ='Distribucion delitos por Escolaridad y sexo' )"
      ],
      "metadata": {
        "colab": {
          "base_uri": "https://localhost:8080/",
          "height": 441
        },
        "id": "IrWA1mJFUiv1",
        "outputId": "6cb6931e-5593-4fe8-a517-125647dc5969"
      },
      "execution_count": 15,
      "outputs": [
        {
          "output_type": "stream",
          "name": "stderr",
          "text": [
            "/usr/local/lib/python3.7/dist-packages/seaborn/categorical.py:3717: UserWarning: The `factorplot` function has been renamed to `catplot`. The original name will be removed in a future release. Please update your code. Note that the default `kind` in `factorplot` (`'point'`) has changed `'strip'` in `catplot`.\n",
            "  warnings.warn(msg)\n"
          ]
        },
        {
          "output_type": "display_data",
          "data": {
            "text/plain": [
              "<Figure size 455.625x360 with 1 Axes>"
            ],
            "image/png": "[encoded data removed]"
          },
          "metadata": {
            "needs_background": "light"
          }
        }
      ]
    },
    {
      "cell_type": "code",
      "source": [
        "delito_select = 'ARTÍCULO 209. ACTOS SEXUALES CON MENOR DE 14 AÑOS'\n",
        "aux = df.loc[df.DELITO == delito_select].copy()\n",
        "aux = aux.assign(month_ = aux.Fecha.dt.month)\n",
        "aux = aux.groupby('month_').agg(Cantidad = ('Cantidad', 'count')).reset_index()\n",
        "sns.barplot(data=aux, x=\"month_\", y=\"Cantidad\").set_title('Cantidad Delitos reportados en el año 2019')"
      ],
      "metadata": {
        "colab": {
          "base_uri": "https://localhost:8080/",
          "height": 314
        },
        "id": "SUau7Wy5mS3O",
        "outputId": "dd273a41-5653-49be-8cd5-4b5c8d62bb11"
      },
      "execution_count": 30,
      "outputs": [
        {
          "output_type": "execute_result",
          "data": {
            "text/plain": [
              "Text(0.5, 1.0, 'Cantidad Delitos reportados en el año 2019')"
            ]
          },
          "metadata": {},
          "execution_count": 30
        },
        {
          "output_type": "display_data",
          "data": {
            "text/plain": [
              "<Figure size 432x288 with 1 Axes>"
            ],
            "image/png": "[encoded data removed]"
          },
          "metadata": {
            "needs_background": "light"
          }
        }
      ]
    },
    {
      "cell_type": "code",
      "source": [
        "df.head()"
      ],
      "metadata": {
        "colab": {
          "base_uri": "https://localhost:8080/",
          "height": 890
        },
        "id": "Y7kb6HCxKbuA",
        "outputId": "3b3d27f4-4bc8-435d-ba07-18a698969a48"
      },
      "execution_count": 31,
      "outputs": [
        {
          "output_type": "execute_result",
          "data": {
            "text/plain": [
              "       Fecha Departamento     Municipio  \\\n",
              "0 2019-01-01     AMAZONAS  LETICIA (CT)   \n",
              "1 2019-01-01     AMAZONAS  LETICIA (CT)   \n",
              "2 2019-01-01    ANTIOQUIA      ABRIAQUÍ   \n",
              "3 2019-01-01    ANTIOQUIA         AMAGÁ   \n",
              "4 2019-01-01    ANTIOQUIA         AMAGÁ   \n",
              "\n",
              "                                              DELITO     Día      Hora  \\\n",
              "0  ARTÍCULO 209. ACTOS SEXUALES CON MENOR DE 14 AÑOS  Martes  18:00:00   \n",
              "1  ARTÍCULO 209. ACTOS SEXUALES CON MENOR DE 14 AÑOS  Martes  18:00:00   \n",
              "2  ARTÍCULO 209. ACTOS SEXUALES CON MENOR DE 14 AÑOS  Martes  00:00:00   \n",
              "3  ARTÍCULO 208. ACCESO CARNAL ABUSIVO CON MENOR ...  Martes  10:00:00   \n",
              "4  ARTÍCULO 208. ACCESO CARNAL ABUSIVO CON MENOR ...  Martes  10:00:00   \n",
              "\n",
              "         Barrio   Zona      Clase de sitio        Arma empleada  ...  \\\n",
              "0  NO REPORTADO  RURAL   CASAS DE APUESTAS  SIN EMPLEO DE ARMAS  ...   \n",
              "1  NO REPORTADO  RURAL   CASAS DE APUESTAS  SIN EMPLEO DE ARMAS  ...   \n",
              "2      SAN JOSE  RURAL  FINCAS Y SIMILARES  SIN EMPLEO DE ARMAS  ...   \n",
              "3      LA GUALI  RURAL  FINCAS Y SIMILARES  SIN EMPLEO DE ARMAS  ...   \n",
              "4      LA GUALI  RURAL  FINCAS Y SIMILARES  SIN EMPLEO DE ARMAS  ...   \n",
              "\n",
              "  Móvil Victima  Edad      Sexo Estado civil País de nacimiento  \\\n",
              "0         A PIE   7.0  FEMENINO            -           COLOMBIA   \n",
              "1         A PIE  21.0  FEMENINO  UNION LIBRE           COLOMBIA   \n",
              "2         A PIE  16.0  FEMENINO      SOLTERO           COLOMBIA   \n",
              "3         A PIE   4.0  FEMENINO      SOLTERO           COLOMBIA   \n",
              "4         A PIE   8.0  FEMENINO      SOLTERO           COLOMBIA   \n",
              "\n",
              "     Clase de empleado     Profesión Escolaridad Código DANE  Cantidad  \n",
              "0           NO REPORTA             -           -    91001000         1  \n",
              "1        INDEPENDIENTE             -    PRIMARIA    91001000         1  \n",
              "2           ESTUDIANTE             -  SECUNDARIA     5004000         1  \n",
              "3  EMPLEADO PARTICULAR  NO REPORTADA  SECUNDARIA     5030000         1  \n",
              "4  EMPLEADO PARTICULAR  NO REPORTADA    PRIMARIA     5030000         1  \n",
              "\n",
              "[5 rows x 21 columns]"
            ],
            "text/html": [
              "\n",
              "  <div id=\"df-ca322f59-23fc-4f21-82e2-8661d75fb927\">\n",
              "    <div class=\"colab-df-container\">\n",
              "      <div>\n",
              "<style scoped>\n",
              "    .dataframe tbody tr th:only-of-type {\n",
              "        vertical-align: middle;\n",
              "    }\n",
              "\n",
              "    .dataframe tbody tr th {\n",
              "        vertical-align: top;\n",
              "    }\n",
              "\n",
              "    .dataframe thead th {\n",
              "        text-align: right;\n",
              "    }\n",
              "</style>\n",
              "<table border=\"1\" class=\"dataframe\">\n",
              "  <thead>\n",
              "    <tr style=\"text-align: right;\">\n",
              "      <th></th>\n",
              "      <th>Fecha</th>\n",
              "      <th>Departamento</th>\n",
              "      <th>Municipio</th>\n",
              "      <th>DELITO</th>\n",
              "      <th>Día</th>\n",
              "      <th>Hora</th>\n",
              "      <th>Barrio</th>\n",
              "      <th>Zona</th>\n",
              "      <th>Clase de sitio</th>\n",
              "      <th>Arma empleada</th>\n",
              "      <th>...</th>\n",
              "      <th>Móvil Victima</th>\n",
              "      <th>Edad</th>\n",
              "      <th>Sexo</th>\n",
              "      <th>Estado civil</th>\n",
              "      <th>País de nacimiento</th>\n",
              "      <th>Clase de empleado</th>\n",
              "      <th>Profesión</th>\n",
              "      <th>Escolaridad</th>\n",
              "      <th>Código DANE</th>\n",
              "      <th>Cantidad</th>\n",
              "    </tr>\n",
              "  </thead>\n",
              "  <tbody>\n",
              "    <tr>\n",
              "      <th>0</th>\n",
              "      <td>2019-01-01</td>\n",
              "      <td>AMAZONAS</td>\n",
              "      <td>LETICIA (CT)</td>\n",
              "      <td>ARTÍCULO 209. ACTOS SEXUALES CON MENOR DE 14 AÑOS</td>\n",
              "      <td>Martes</td>\n",
              "      <td>18:00:00</td>\n",
              "      <td>NO REPORTADO</td>\n",
              "      <td>RURAL</td>\n",
              "      <td>CASAS DE APUESTAS</td>\n",
              "      <td>SIN EMPLEO DE ARMAS</td>\n",
              "      <td>...</td>\n",
              "      <td>A PIE</td>\n",
              "      <td>7.0</td>\n",
              "      <td>FEMENINO</td>\n",
              "      <td>-</td>\n",
              "      <td>COLOMBIA</td>\n",
              "      <td>NO REPORTA</td>\n",
              "      <td>-</td>\n",
              "      <td>-</td>\n",
              "      <td>91001000</td>\n",
              "      <td>1</td>\n",
              "    </tr>\n",
              "    <tr>\n",
              "      <th>1</th>\n",
              "      <td>2019-01-01</td>\n",
              "      <td>AMAZONAS</td>\n",
              "      <td>LETICIA (CT)</td>\n",
              "      <td>ARTÍCULO 209. ACTOS SEXUALES CON MENOR DE 14 AÑOS</td>\n",
              "      <td>Martes</td>\n",
              "      <td>18:00:00</td>\n",
              "      <td>NO REPORTADO</td>\n",
              "      <td>RURAL</td>\n",
              "      <td>CASAS DE APUESTAS</td>\n",
              "      <td>SIN EMPLEO DE ARMAS</td>\n",
              "      <td>...</td>\n",
              "      <td>A PIE</td>\n",
              "      <td>21.0</td>\n",
              "      <td>FEMENINO</td>\n",
              "      <td>UNION LIBRE</td>\n",
              "      <td>COLOMBIA</td>\n",
              "      <td>INDEPENDIENTE</td>\n",
              "      <td>-</td>\n",
              "      <td>PRIMARIA</td>\n",
              "      <td>91001000</td>\n",
              "      <td>1</td>\n",
              "    </tr>\n",
              "    <tr>\n",
              "      <th>2</th>\n",
              "      <td>2019-01-01</td>\n",
              "      <td>ANTIOQUIA</td>\n",
              "      <td>ABRIAQUÍ</td>\n",
              "      <td>ARTÍCULO 209. ACTOS SEXUALES CON MENOR DE 14 AÑOS</td>\n",
              "      <td>Martes</td>\n",
              "      <td>00:00:00</td>\n",
              "      <td>SAN JOSE</td>\n",
              "      <td>RURAL</td>\n",
              "      <td>FINCAS Y SIMILARES</td>\n",
              "      <td>SIN EMPLEO DE ARMAS</td>\n",
              "      <td>...</td>\n",
              "      <td>A PIE</td>\n",
              "      <td>16.0</td>\n",
              "      <td>FEMENINO</td>\n",
              "      <td>SOLTERO</td>\n",
              "      <td>COLOMBIA</td>\n",
              "      <td>ESTUDIANTE</td>\n",
              "      <td>-</td>\n",
              "      <td>SECUNDARIA</td>\n",
              "      <td>5004000</td>\n",
              "      <td>1</td>\n",
              "    </tr>\n",
              "    <tr>\n",
              "      <th>3</th>\n",
              "      <td>2019-01-01</td>\n",
              "      <td>ANTIOQUIA</td>\n",
              "      <td>AMAGÁ</td>\n",
              "      <td>ARTÍCULO 208. ACCESO CARNAL ABUSIVO CON MENOR ...</td>\n",
              "      <td>Martes</td>\n",
              "      <td>10:00:00</td>\n",
              "      <td>LA GUALI</td>\n",
              "      <td>RURAL</td>\n",
              "      <td>FINCAS Y SIMILARES</td>\n",
              "      <td>SIN EMPLEO DE ARMAS</td>\n",
              "      <td>...</td>\n",
              "      <td>A PIE</td>\n",
              "      <td>4.0</td>\n",
              "      <td>FEMENINO</td>\n",
              "      <td>SOLTERO</td>\n",
              "      <td>COLOMBIA</td>\n",
              "      <td>EMPLEADO PARTICULAR</td>\n",
              "      <td>NO REPORTADA</td>\n",
              "      <td>SECUNDARIA</td>\n",
              "      <td>5030000</td>\n",
              "      <td>1</td>\n",
              "    </tr>\n",
              "    <tr>\n",
              "      <th>4</th>\n",
              "      <td>2019-01-01</td>\n",
              "      <td>ANTIOQUIA</td>\n",
              "      <td>AMAGÁ</td>\n",
              "      <td>ARTÍCULO 208. ACCESO CARNAL ABUSIVO CON MENOR ...</td>\n",
              "      <td>Martes</td>\n",
              "      <td>10:00:00</td>\n",
              "      <td>LA GUALI</td>\n",
              "      <td>RURAL</td>\n",
              "      <td>FINCAS Y SIMILARES</td>\n",
              "      <td>SIN EMPLEO DE ARMAS</td>\n",
              "      <td>...</td>\n",
              "      <td>A PIE</td>\n",
              "      <td>8.0</td>\n",
              "      <td>FEMENINO</td>\n",
              "      <td>SOLTERO</td>\n",
              "      <td>COLOMBIA</td>\n",
              "      <td>EMPLEADO PARTICULAR</td>\n",
              "      <td>NO REPORTADA</td>\n",
              "      <td>PRIMARIA</td>\n",
              "      <td>5030000</td>\n",
              "      <td>1</td>\n",
              "    </tr>\n",
              "  </tbody>\n",
              "</table>\n",
              "<p>5 rows × 21 columns</p>\n",
              "</div>\n",
              "      <button class=\"colab-df-convert\" onclick=\"convertToInteractive('df-ca322f59-23fc-4f21-82e2-8661d75fb927')\"\n",
              "              title=\"Convert this dataframe to an interactive table.\"\n",
              "              style=\"display:none;\">\n",
              "        \n",
              "  <svg xmlns=\"http://www.w3.org/2000/svg\" height=\"24px\"viewBox=\"0 0 24 24\"\n",
              "       width=\"24px\">\n",
              "    <path d=\"M0 0h24v24H0V0z\" fill=\"none\"/>\n",
              "    <path d=\"M18.56 5.44l.94 2.06.94-2.06 2.06-.94-2.06-.94-.94-2.06-.94 2.06-2.06.94zm-11 1L8.5 8.5l.94-2.06 2.06-.94-2.06-.94L8.5 2.5l-.94 2.06-2.06.94zm10 10l.94 2.06.94-2.06 2.06-.94-2.06-.94-.94-2.06-.94 2.06-2.06.94z\"/><path d=\"M17.41 7.96l-1.37-1.37c-.4-.4-.92-.59-1.43-.59-.52 0-1.04.2-1.43.59L10.3 9.45l-7.72 7.72c-.78.78-.78 2.05 0 2.83L4 21.41c.39.39.9.59 1.41.59.51 0 1.02-.2 1.41-.59l7.78-7.78 2.81-2.81c.8-.78.8-2.07 0-2.86zM5.41 20L4 18.59l7.72-7.72 1.47 1.35L5.41 20z\"/>\n",
              "  </svg>\n",
              "      </button>\n",
              "      \n",
              "  <style>\n",
              "    .colab-df-container {\n",
              "      display:flex;\n",
              "      flex-wrap:wrap;\n",
              "      gap: 12px;\n",
              "    }\n",
              "\n",
              "    .colab-df-convert {\n",
              "      background-color: #E8F0FE;\n",
              "      border: none;\n",
              "      border-radius: 50%;\n",
              "      cursor: pointer;\n",
              "      display: none;\n",
              "      fill: #1967D2;\n",
              "      height: 32px;\n",
              "      padding: 0 0 0 0;\n",
              "      width: 32px;\n",
              "    }\n",
              "\n",
              "    .colab-df-convert:hover {\n",
              "      background-color: #E2EBFA;\n",
              "      box-shadow: 0px 1px 2px rgba(60, 64, 67, 0.3), 0px 1px 3px 1px rgba(60, 64, 67, 0.15);\n",
              "      fill: #174EA6;\n",
              "    }\n",
              "\n",
              "    [theme=dark] .colab-df-convert {\n",
              "      background-color: #3B4455;\n",
              "      fill: #D2E3FC;\n",
              "    }\n",
              "\n",
              "    [theme=dark] .colab-df-convert:hover {\n",
              "      background-color: #434B5C;\n",
              "      box-shadow: 0px 1px 3px 1px rgba(0, 0, 0, 0.15);\n",
              "      filter: drop-shadow(0px 1px 2px rgba(0, 0, 0, 0.3));\n",
              "      fill: #FFFFFF;\n",
              "    }\n",
              "  </style>\n",
              "\n",
              "      <script>\n",
              "        const buttonEl =\n",
              "          document.querySelector('#df-ca322f59-23fc-4f21-82e2-8661d75fb927 button.colab-df-convert');\n",
              "        buttonEl.style.display =\n",
              "          google.colab.kernel.accessAllowed ? 'block' : 'none';\n",
              "\n",
              "        async function convertToInteractive(key) {\n",
              "          const element = document.querySelector('#df-ca322f59-23fc-4f21-82e2-8661d75fb927');\n",
              "          const dataTable =\n",
              "            await google.colab.kernel.invokeFunction('convertToInteractive',\n",
              "                                                     [key], {});\n",
              "          if (!dataTable) return;\n",
              "\n",
              "          const docLinkHtml = 'Like what you see? Visit the ' +\n",
              "            '<a target=\"_blank\" href=https://colab.research.google.com/notebooks/data_table.ipynb>data table notebook</a>'\n",
              "            + ' to learn more about interactive tables.';\n",
              "          element.innerHTML = '';\n",
              "          dataTable['output_type'] = 'display_data';\n",
              "          await google.colab.output.renderOutput(dataTable, element);\n",
              "          const docLink = document.createElement('div');\n",
              "          docLink.innerHTML = docLinkHtml;\n",
              "          element.appendChild(docLink);\n",
              "        }\n",
              "      </script>\n",
              "    </div>\n",
              "  </div>\n",
              "  "
            ]
          },
          "metadata": {},
          "execution_count": 31
        }
      ]
    },
    {
      "cell_type": "code",
      "source": [
        "## analisis vibariado"
      ],
      "metadata": {
        "id": "lbdSCEcsKOO-"
      },
      "execution_count": 32,
      "outputs": []
    },
    {
      "cell_type": "code",
      "source": [],
      "metadata": {
        "id": "TEM243efNs40"
      },
      "execution_count": null,
      "outputs": []
    },
    {
      "cell_type": "markdown",
      "source": [
        "# Exportar las estadísticas obtenidas de los delitos sexuales"
      ],
      "metadata": {
        "id": "RUo4qGx-TVT6"
      }
    },
    {
      "cell_type": "code",
      "source": [
        "# informe pdf\n",
        "# creado via drive"
      ],
      "metadata": {
        "id": "8toRPhbbTaT_"
      },
      "execution_count": 17,
      "outputs": []
    },
    {
      "cell_type": "markdown",
      "source": [
        "# Evaluar la dispersión de la edad"
      ],
      "metadata": {
        "id": "3Y8VBHuWTc29"
      }
    },
    {
      "cell_type": "code",
      "source": [
        "def temp(x):\n",
        "  try:\n",
        "    return int(x)\n",
        "  except: \n",
        "    return None\n",
        "df = df.assign(Edad = df.Edad.apply(temp))\n",
        "del temp\n",
        "df.Edad.describe()"
      ],
      "metadata": {
        "colab": {
          "base_uri": "https://localhost:8080/"
        },
        "id": "qUUxQVI1TUFR",
        "outputId": "d46e6358-e6c8-4b32-f1f3-0deeafcf5ccc"
      },
      "execution_count": 18,
      "outputs": [
        {
          "output_type": "execute_result",
          "data": {
            "text/plain": [
              "count    33699.00000\n",
              "mean        15.34550\n",
              "std          9.97309\n",
              "min          0.00000\n",
              "25%         10.00000\n",
              "50%         13.00000\n",
              "75%         18.00000\n",
              "max         93.00000\n",
              "Name: Edad, dtype: float64"
            ]
          },
          "metadata": {},
          "execution_count": 18
        }
      ]
    },
    {
      "cell_type": "code",
      "source": [
        "ax = sns.displot(data=df, x='Edad', kind='kde', bw_adjust=3)\n",
        "ax.set(title='Distribución de la Edad')"
      ],
      "metadata": {
        "colab": {
          "base_uri": "https://localhost:8080/",
          "height": 403
        },
        "id": "ZNORqzIneOZd",
        "outputId": "59e1fb41-a50b-491b-fd0f-75b7ac6e06b5"
      },
      "execution_count": 33,
      "outputs": [
        {
          "output_type": "execute_result",
          "data": {
            "text/plain": [
              "<seaborn.axisgrid.FacetGrid at 0x7f5bd51c8b10>"
            ]
          },
          "metadata": {},
          "execution_count": 33
        },
        {
          "output_type": "display_data",
          "data": {
            "text/plain": [
              "<Figure size 360x360 with 1 Axes>"
            ],
            "image/png": "[encoded data removed]"
          },
          "metadata": {
            "needs_background": "light"
          }
        }
      ]
    },
    {
      "cell_type": "code",
      "source": [
        "import numpy as np \n",
        "vals = df.Edad\n",
        "# 1st Moment: Media  \n",
        "print(np.mean(vals)  )\n",
        "# 2nd Moment: Varianza  \n",
        "print(np.var(vals)  )\n",
        "# 3rd Moment: Asimetría  \n",
        "import scipy.stats as sp  \n",
        "print(sp.skew(vals)  )\n",
        "# 4th Moment: Curtosis  \n",
        "sp.kurtosis(vals,  fisher=False) "
      ],
      "metadata": {
        "colab": {
          "base_uri": "https://localhost:8080/"
        },
        "id": "881q1hrSORiK",
        "outputId": "3dd5aa7f-8ed5-4b84-9445-c097fa87d1ca"
      },
      "execution_count": 46,
      "outputs": [
        {
          "output_type": "stream",
          "name": "stdout",
          "text": [
            "15.34549986646488\n",
            "99.45957877250805\n",
            "nan\n"
          ]
        },
        {
          "output_type": "execute_result",
          "data": {
            "text/plain": [
              "nan"
            ]
          },
          "metadata": {},
          "execution_count": 46
        }
      ]
    },
    {
      "cell_type": "code",
      "source": [],
      "metadata": {
        "id": "Zy2pPdAKOR7B"
      },
      "execution_count": 45,
      "outputs": []
    },
    {
      "cell_type": "code",
      "source": [
        "ax = sns.boxplot(data=df, x='Edad')\n",
        "ax.set(title='Distribución de la Edad')"
      ],
      "metadata": {
        "colab": {
          "base_uri": "https://localhost:8080/",
          "height": 313
        },
        "id": "wia7St5sfJLc",
        "outputId": "faee5b2e-63ab-4d61-ea9d-0e58316cf0fc"
      },
      "execution_count": 20,
      "outputs": [
        {
          "output_type": "execute_result",
          "data": {
            "text/plain": [
              "[Text(0.5, 1.0, 'Distribución de la Edad')]"
            ]
          },
          "metadata": {},
          "execution_count": 20
        },
        {
          "output_type": "display_data",
          "data": {
            "text/plain": [
              "<Figure size 432x288 with 1 Axes>"
            ],
            "image/png": "[encoded data removed]"
          },
          "metadata": {
            "needs_background": "light"
          }
        }
      ]
    }
  ]
}